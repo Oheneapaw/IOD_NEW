{
 "cells": [
  {
   "cell_type": "code",
   "execution_count": 5,
   "id": "7864fbb2-8c3e-4406-9536-a154dbfc8bc0",
   "metadata": {},
   "outputs": [],
   "source": [
    "import warnings\n",
    "import seaborn as sns\n",
    "import matplotlib.pyplot as plt\n",
    "import pandas as pd\n",
    "import numpy as np\n",
    "warnings.simplefilter(\"ignore\")"
   ]
  },
  {
   "cell_type": "code",
   "execution_count": 7,
   "id": "17c3b6c0-6b5a-4c3d-ba33-0c8affe2b18c",
   "metadata": {},
   "outputs": [],
   "source": [
    "df = pd.read_csv(r'D:\\Downloads\\Merged data.csv')"
   ]
  },
  {
   "cell_type": "code",
   "execution_count": 9,
   "id": "6d52ac56-9644-4cdb-82b5-ed5bd7997f9e",
   "metadata": {},
   "outputs": [
    {
     "data": {
      "text/html": [
       "<div>\n",
       "<style scoped>\n",
       "    .dataframe tbody tr th:only-of-type {\n",
       "        vertical-align: middle;\n",
       "    }\n",
       "\n",
       "    .dataframe tbody tr th {\n",
       "        vertical-align: top;\n",
       "    }\n",
       "\n",
       "    .dataframe thead th {\n",
       "        text-align: right;\n",
       "    }\n",
       "</style>\n",
       "<table border=\"1\" class=\"dataframe\">\n",
       "  <thead>\n",
       "    <tr style=\"text-align: right;\">\n",
       "      <th></th>\n",
       "      <th>ID</th>\n",
       "      <th>Gender</th>\n",
       "      <th>Ever_Married</th>\n",
       "      <th>Age</th>\n",
       "      <th>Graduated</th>\n",
       "      <th>Profession</th>\n",
       "      <th>Work_Experience</th>\n",
       "      <th>Spending_Score</th>\n",
       "      <th>Family_Size</th>\n",
       "      <th>Anonymised_Category</th>\n",
       "    </tr>\n",
       "  </thead>\n",
       "  <tbody>\n",
       "    <tr>\n",
       "      <th>0</th>\n",
       "      <td>462809</td>\n",
       "      <td>Male</td>\n",
       "      <td>No</td>\n",
       "      <td>22</td>\n",
       "      <td>No</td>\n",
       "      <td>Healthcare</td>\n",
       "      <td>1.0</td>\n",
       "      <td>Low</td>\n",
       "      <td>4.0</td>\n",
       "      <td>Cat_4</td>\n",
       "    </tr>\n",
       "    <tr>\n",
       "      <th>1</th>\n",
       "      <td>462643</td>\n",
       "      <td>Female</td>\n",
       "      <td>Yes</td>\n",
       "      <td>38</td>\n",
       "      <td>Yes</td>\n",
       "      <td>Engineer</td>\n",
       "      <td>NaN</td>\n",
       "      <td>Average</td>\n",
       "      <td>3.0</td>\n",
       "      <td>Cat_4</td>\n",
       "    </tr>\n",
       "    <tr>\n",
       "      <th>2</th>\n",
       "      <td>466315</td>\n",
       "      <td>Female</td>\n",
       "      <td>Yes</td>\n",
       "      <td>67</td>\n",
       "      <td>Yes</td>\n",
       "      <td>Engineer</td>\n",
       "      <td>1.0</td>\n",
       "      <td>Low</td>\n",
       "      <td>1.0</td>\n",
       "      <td>Cat_6</td>\n",
       "    </tr>\n",
       "    <tr>\n",
       "      <th>3</th>\n",
       "      <td>461735</td>\n",
       "      <td>Male</td>\n",
       "      <td>Yes</td>\n",
       "      <td>67</td>\n",
       "      <td>Yes</td>\n",
       "      <td>Lawyer</td>\n",
       "      <td>0.0</td>\n",
       "      <td>High</td>\n",
       "      <td>2.0</td>\n",
       "      <td>Cat_6</td>\n",
       "    </tr>\n",
       "    <tr>\n",
       "      <th>4</th>\n",
       "      <td>462669</td>\n",
       "      <td>Female</td>\n",
       "      <td>Yes</td>\n",
       "      <td>40</td>\n",
       "      <td>Yes</td>\n",
       "      <td>Entertainment</td>\n",
       "      <td>NaN</td>\n",
       "      <td>High</td>\n",
       "      <td>6.0</td>\n",
       "      <td>Cat_6</td>\n",
       "    </tr>\n",
       "  </tbody>\n",
       "</table>\n",
       "</div>"
      ],
      "text/plain": [
       "       ID  Gender Ever_Married  Age Graduated     Profession  Work_Experience  \\\n",
       "0  462809    Male           No   22        No     Healthcare              1.0   \n",
       "1  462643  Female          Yes   38       Yes       Engineer              NaN   \n",
       "2  466315  Female          Yes   67       Yes       Engineer              1.0   \n",
       "3  461735    Male          Yes   67       Yes         Lawyer              0.0   \n",
       "4  462669  Female          Yes   40       Yes  Entertainment              NaN   \n",
       "\n",
       "  Spending_Score  Family_Size Anonymised_Category  \n",
       "0            Low          4.0               Cat_4  \n",
       "1        Average          3.0               Cat_4  \n",
       "2            Low          1.0               Cat_6  \n",
       "3           High          2.0               Cat_6  \n",
       "4           High          6.0               Cat_6  "
      ]
     },
     "execution_count": 9,
     "metadata": {},
     "output_type": "execute_result"
    }
   ],
   "source": [
    "df.head()"
   ]
  },
  {
   "cell_type": "code",
   "execution_count": 13,
   "id": "732f1554-b4dd-403e-ae3d-5f3d7f38e4f1",
   "metadata": {},
   "outputs": [
    {
     "name": "stdout",
     "output_type": "stream",
     "text": [
      "<class 'pandas.core.frame.DataFrame'>\n",
      "RangeIndex: 10695 entries, 0 to 10694\n",
      "Data columns (total 10 columns):\n",
      " #   Column               Non-Null Count  Dtype  \n",
      "---  ------               --------------  -----  \n",
      " 0   ID                   10695 non-null  int64  \n",
      " 1   Gender               10695 non-null  object \n",
      " 2   Ever_Married         10505 non-null  object \n",
      " 3   Age                  10695 non-null  int64  \n",
      " 4   Graduated            10593 non-null  object \n",
      " 5   Profession           10533 non-null  object \n",
      " 6   Work_Experience      9597 non-null   float64\n",
      " 7   Spending_Score       10695 non-null  object \n",
      " 8   Family_Size          10247 non-null  float64\n",
      " 9   Anonymised_Category  10587 non-null  object \n",
      "dtypes: float64(2), int64(2), object(6)\n",
      "memory usage: 835.7+ KB\n"
     ]
    }
   ],
   "source": [
    "df.info()"
   ]
  },
  {
   "cell_type": "code",
   "execution_count": 15,
   "id": "3eced32e-d5a3-43bc-ae36-4cf3b1794811",
   "metadata": {},
   "outputs": [
    {
     "data": {
      "text/plain": [
       "Index(['ID', 'Gender', 'Ever_Married', 'Age', 'Graduated', 'Profession',\n",
       "       'Work_Experience', 'Spending_Score', 'Family_Size',\n",
       "       'Anonymised_Category'],\n",
       "      dtype='object')"
      ]
     },
     "execution_count": 15,
     "metadata": {},
     "output_type": "execute_result"
    }
   ],
   "source": [
    "df.columns"
   ]
  },
  {
   "cell_type": "code",
   "execution_count": 19,
   "id": "7b2dcf21-2878-4323-a7e0-422d498264be",
   "metadata": {},
   "outputs": [],
   "source": [
    "df=df.drop(columns=\"ID\")"
   ]
  },
  {
   "cell_type": "code",
   "execution_count": 23,
   "id": "9cdc9c1c-64cd-4a77-b48c-eacce6868af4",
   "metadata": {},
   "outputs": [
    {
     "data": {
      "text/plain": [
       "1296"
      ]
     },
     "execution_count": 23,
     "metadata": {},
     "output_type": "execute_result"
    }
   ],
   "source": [
    "df.duplicated().sum()"
   ]
  },
  {
   "cell_type": "code",
   "execution_count": 25,
   "id": "8a9066dd-5d69-41dc-8cc1-99cf2c2f4f15",
   "metadata": {},
   "outputs": [
    {
     "data": {
      "text/plain": [
       "array([22, 38, 67, 40, 56, 32, 33, 61, 55, 26, 19, 70, 58, 41, 31, 79, 49,\n",
       "       18, 36, 35, 45, 42, 83, 27, 28, 47, 29, 57, 76, 25, 72, 48, 74, 59,\n",
       "       39, 51, 30, 63, 52, 60, 68, 86, 50, 43, 80, 37, 46, 69, 78, 71, 82,\n",
       "       23, 20, 85, 21, 53, 62, 75, 65, 89, 66, 73, 77, 87, 84, 81, 88],\n",
       "      dtype=int64)"
      ]
     },
     "execution_count": 25,
     "metadata": {},
     "output_type": "execute_result"
    }
   ],
   "source": [
    "df['Age'].unique()"
   ]
  },
  {
   "cell_type": "code",
   "execution_count": 29,
   "id": "c78e40a4-e746-41bb-9f6f-0747c14be426",
   "metadata": {},
   "outputs": [
    {
     "data": {
      "image/png": "[encoded data removed]",
      "text/plain": [
       "<Figure size 1000x600 with 1 Axes>"
      ]
     },
     "metadata": {},
     "output_type": "display_data"
    }
   ],
   "source": [
    "sns.set(style=\"whitegrid\")\n",
    "plt.figure(figsize=(10, 6))\n",
    "sns.countplot(x='Profession', data=df, palette='viridis')\n",
    "plt.title(\"Distribution of Professions\", fontsize=16)\n",
    "plt.xlabel(\"Profession\", fontsize=14)\n",
    "plt.ylabel(\"Count\", fontsize=14)\n",
    "plt.xticks(rotation=45, ha='right')\n",
    "plt.tight_layout()\n",
    "plt.show()"
   ]
  },
  {
   "cell_type": "code",
   "execution_count": 31,
   "id": "c0fcf05d-5ac2-4d4a-81c3-3d3f6eec3852",
   "metadata": {},
   "outputs": [
    {
     "data": {
      "image/png": "[encoded data removed]",
      "text/plain": [
       "<Figure size 1000x600 with 1 Axes>"
      ]
     },
     "metadata": {},
     "output_type": "display_data"
    }
   ],
   "source": [
    "plt.figure(figsize=(10, 6))  # Set the figure size\n",
    "sns.histplot(x='Age', data=df, bins=15, kde=True, color='skyblue', edgecolor='black')\n",
    "plt.title(\"Age Distribution\", fontsize=16)\n",
    "plt.xlabel(\"Age\", fontsize=14)\n",
    "plt.ylabel(\"Frequency\", fontsize=14)\n",
    "plt.tight_layout()\n",
    "plt.show()"
   ]
  },
  {
   "cell_type": "code",
   "execution_count": 33,
   "id": "db91a8fa-86b3-4d8e-b4ec-d5be1a3f7bae",
   "metadata": {},
   "outputs": [
    {
     "data": {
      "text/plain": [
       "Gender                    0\n",
       "Ever_Married            190\n",
       "Age                       0\n",
       "Graduated               102\n",
       "Profession              162\n",
       "Work_Experience        1098\n",
       "Spending_Score            0\n",
       "Family_Size             448\n",
       "Anonymised_Category     108\n",
       "dtype: int64"
      ]
     },
     "execution_count": 33,
     "metadata": {},
     "output_type": "execute_result"
    }
   ],
   "source": [
    "df.isnull().sum()"
   ]
  },
  {
   "cell_type": "code",
   "execution_count": 39,
   "id": "963657a8-ccc7-4eca-9743-a09e7313058b",
   "metadata": {},
   "outputs": [
    {
     "data": {
      "text/plain": [
       "Gender                 0\n",
       "Ever_Married           0\n",
       "Age                    0\n",
       "Graduated              0\n",
       "Profession             0\n",
       "Work_Experience        0\n",
       "Spending_Score         0\n",
       "Family_Size            0\n",
       "Anonymised_Category    0\n",
       "dtype: int64"
      ]
     },
     "execution_count": 39,
     "metadata": {},
     "output_type": "execute_result"
    }
   ],
   "source": [
    "df[\"Anonymised_Category\"].fillna(df[\"Anonymised_Category\"].mode()[0],inplace=True)\n",
    "df[\"Graduated\"].fillna(df[\"Graduated\"].mode()[0],inplace=True)\n",
    "df[\"Family_Size\"].fillna(df[\"Family_Size\"].mode()[0],inplace=True)\n",
    "df[\"Ever_Married\"].fillna(df[\"Ever_Married\"].mode()[0],inplace=True)\n",
    "df[\"Work_Experience\"].fillna(df[\"Work_Experience\"].mode()[0],inplace=True)\n",
    "df[\"Profession\"].fillna(df[\"Profession\"].mode()[0],inplace=True)\n",
    "\n",
    "df.isnull().sum()"
   ]
  },
  {
   "cell_type": "code",
   "execution_count": 41,
   "id": "7ba154cb-bf9d-497d-a35f-78db6beb15f7",
   "metadata": {},
   "outputs": [
    {
     "data": {
      "image/png": "[encoded data removed]",
      "text/plain": [
       "<Figure size 1000x600 with 1 Axes>"
      ]
     },
     "metadata": {},
     "output_type": "display_data"
    }
   ],
   "source": [
    "plt.figure(figsize=(10, 6))  # Set the figure size\n",
    "sns.boxplot(x=df[\"Age\"], color='lightcoral', fliersize=5)\n",
    "plt.title(\"Boxplot of Age\", fontsize=16)\n",
    "plt.xlabel(\"Age\", fontsize=14)\n",
    "plt.tight_layout()\n",
    "plt.show()"
   ]
  },
  {
   "cell_type": "code",
   "execution_count": 43,
   "id": "237fc15c-1a17-4924-95d3-beea4b745071",
   "metadata": {},
   "outputs": [
    {
     "name": "stdout",
     "output_type": "stream",
     "text": [
      "5-Number Summary:\n",
      "count    10695.000000\n",
      "mean        43.511828\n",
      "std         16.774158\n",
      "min         18.000000\n",
      "25%         30.000000\n",
      "50%         41.000000\n",
      "75%         53.000000\n",
      "max         89.000000\n",
      "Name: Age, dtype: float64\n",
      "\n",
      "Lower Limit for Outliers: -4.5\n",
      "Upper Limit for Outliers: 87.5\n"
     ]
    }
   ],
   "source": [
    "five_number_summary = df[\"Age\"].describe()\n",
    "print(\"5-Number Summary:\")\n",
    "print(five_number_summary)\n",
    "Q1 = five_number_summary['25%']\n",
    "Q3 = five_number_summary['75%']\n",
    "IQR = Q3 - Q1\n",
    "lower_limit = Q1 - 1.5 * IQR\n",
    "upper_limit = Q3 + 1.5 * IQR\n",
    "\n",
    "print(\"\\nLower Limit for Outliers:\", lower_limit)\n",
    "print(\"Upper Limit for Outliers:\", upper_limit)"
   ]
  },
  {
   "cell_type": "code",
   "execution_count": 47,
   "id": "56500a66-6464-4637-9f02-1dfefc837eb8",
   "metadata": {},
   "outputs": [
    {
     "data": {
      "text/html": [
       "<div>\n",
       "<style scoped>\n",
       "    .dataframe tbody tr th:only-of-type {\n",
       "        vertical-align: middle;\n",
       "    }\n",
       "\n",
       "    .dataframe tbody tr th {\n",
       "        vertical-align: top;\n",
       "    }\n",
       "\n",
       "    .dataframe thead th {\n",
       "        text-align: right;\n",
       "    }\n",
       "</style>\n",
       "<table border=\"1\" class=\"dataframe\">\n",
       "  <thead>\n",
       "    <tr style=\"text-align: right;\">\n",
       "      <th></th>\n",
       "      <th>Gender</th>\n",
       "      <th>Ever_Married</th>\n",
       "      <th>Age</th>\n",
       "      <th>Graduated</th>\n",
       "      <th>Profession</th>\n",
       "      <th>Work_Experience</th>\n",
       "      <th>Spending_Score</th>\n",
       "      <th>Family_Size</th>\n",
       "      <th>Anonymised_Category</th>\n",
       "    </tr>\n",
       "  </thead>\n",
       "  <tbody>\n",
       "    <tr>\n",
       "      <th>321</th>\n",
       "      <td>Male</td>\n",
       "      <td>Yes</td>\n",
       "      <td>89</td>\n",
       "      <td>Yes</td>\n",
       "      <td>Lawyer</td>\n",
       "      <td>13.0</td>\n",
       "      <td>Low</td>\n",
       "      <td>1.0</td>\n",
       "      <td>Cat_6</td>\n",
       "    </tr>\n",
       "    <tr>\n",
       "      <th>395</th>\n",
       "      <td>Female</td>\n",
       "      <td>Yes</td>\n",
       "      <td>89</td>\n",
       "      <td>No</td>\n",
       "      <td>Lawyer</td>\n",
       "      <td>3.0</td>\n",
       "      <td>High</td>\n",
       "      <td>1.0</td>\n",
       "      <td>Cat_6</td>\n",
       "    </tr>\n",
       "    <tr>\n",
       "      <th>699</th>\n",
       "      <td>Male</td>\n",
       "      <td>Yes</td>\n",
       "      <td>88</td>\n",
       "      <td>No</td>\n",
       "      <td>Executive</td>\n",
       "      <td>0.0</td>\n",
       "      <td>Low</td>\n",
       "      <td>1.0</td>\n",
       "      <td>Cat_6</td>\n",
       "    </tr>\n",
       "    <tr>\n",
       "      <th>753</th>\n",
       "      <td>Female</td>\n",
       "      <td>Yes</td>\n",
       "      <td>88</td>\n",
       "      <td>No</td>\n",
       "      <td>Lawyer</td>\n",
       "      <td>0.0</td>\n",
       "      <td>High</td>\n",
       "      <td>2.0</td>\n",
       "      <td>Cat_6</td>\n",
       "    </tr>\n",
       "    <tr>\n",
       "      <th>943</th>\n",
       "      <td>Male</td>\n",
       "      <td>Yes</td>\n",
       "      <td>88</td>\n",
       "      <td>Yes</td>\n",
       "      <td>Lawyer</td>\n",
       "      <td>1.0</td>\n",
       "      <td>Low</td>\n",
       "      <td>2.0</td>\n",
       "      <td>Cat_6</td>\n",
       "    </tr>\n",
       "    <tr>\n",
       "      <th>...</th>\n",
       "      <td>...</td>\n",
       "      <td>...</td>\n",
       "      <td>...</td>\n",
       "      <td>...</td>\n",
       "      <td>...</td>\n",
       "      <td>...</td>\n",
       "      <td>...</td>\n",
       "      <td>...</td>\n",
       "      <td>...</td>\n",
       "    </tr>\n",
       "    <tr>\n",
       "      <th>10462</th>\n",
       "      <td>Male</td>\n",
       "      <td>Yes</td>\n",
       "      <td>88</td>\n",
       "      <td>Yes</td>\n",
       "      <td>Artist</td>\n",
       "      <td>1.0</td>\n",
       "      <td>Low</td>\n",
       "      <td>2.0</td>\n",
       "      <td>Cat_6</td>\n",
       "    </tr>\n",
       "    <tr>\n",
       "      <th>10505</th>\n",
       "      <td>Male</td>\n",
       "      <td>Yes</td>\n",
       "      <td>89</td>\n",
       "      <td>Yes</td>\n",
       "      <td>Lawyer</td>\n",
       "      <td>0.0</td>\n",
       "      <td>Low</td>\n",
       "      <td>2.0</td>\n",
       "      <td>Cat_6</td>\n",
       "    </tr>\n",
       "    <tr>\n",
       "      <th>10566</th>\n",
       "      <td>Male</td>\n",
       "      <td>Yes</td>\n",
       "      <td>89</td>\n",
       "      <td>Yes</td>\n",
       "      <td>Lawyer</td>\n",
       "      <td>4.0</td>\n",
       "      <td>Low</td>\n",
       "      <td>1.0</td>\n",
       "      <td>Cat_6</td>\n",
       "    </tr>\n",
       "    <tr>\n",
       "      <th>10616</th>\n",
       "      <td>Male</td>\n",
       "      <td>Yes</td>\n",
       "      <td>89</td>\n",
       "      <td>Yes</td>\n",
       "      <td>Lawyer</td>\n",
       "      <td>7.0</td>\n",
       "      <td>High</td>\n",
       "      <td>2.0</td>\n",
       "      <td>Cat_6</td>\n",
       "    </tr>\n",
       "    <tr>\n",
       "      <th>10626</th>\n",
       "      <td>Male</td>\n",
       "      <td>Yes</td>\n",
       "      <td>88</td>\n",
       "      <td>Yes</td>\n",
       "      <td>Lawyer</td>\n",
       "      <td>3.0</td>\n",
       "      <td>High</td>\n",
       "      <td>2.0</td>\n",
       "      <td>Cat_6</td>\n",
       "    </tr>\n",
       "  </tbody>\n",
       "</table>\n",
       "<p>90 rows × 9 columns</p>\n",
       "</div>"
      ],
      "text/plain": [
       "       Gender Ever_Married  Age Graduated Profession  Work_Experience  \\\n",
       "321      Male          Yes   89       Yes     Lawyer             13.0   \n",
       "395    Female          Yes   89        No     Lawyer              3.0   \n",
       "699      Male          Yes   88        No  Executive              0.0   \n",
       "753    Female          Yes   88        No     Lawyer              0.0   \n",
       "943      Male          Yes   88       Yes     Lawyer              1.0   \n",
       "...       ...          ...  ...       ...        ...              ...   \n",
       "10462    Male          Yes   88       Yes     Artist              1.0   \n",
       "10505    Male          Yes   89       Yes     Lawyer              0.0   \n",
       "10566    Male          Yes   89       Yes     Lawyer              4.0   \n",
       "10616    Male          Yes   89       Yes     Lawyer              7.0   \n",
       "10626    Male          Yes   88       Yes     Lawyer              3.0   \n",
       "\n",
       "      Spending_Score  Family_Size Anonymised_Category  \n",
       "321              Low          1.0               Cat_6  \n",
       "395             High          1.0               Cat_6  \n",
       "699              Low          1.0               Cat_6  \n",
       "753             High          2.0               Cat_6  \n",
       "943              Low          2.0               Cat_6  \n",
       "...              ...          ...                 ...  \n",
       "10462            Low          2.0               Cat_6  \n",
       "10505            Low          2.0               Cat_6  \n",
       "10566            Low          1.0               Cat_6  \n",
       "10616           High          2.0               Cat_6  \n",
       "10626           High          2.0               Cat_6  \n",
       "\n",
       "[90 rows x 9 columns]"
      ]
     },
     "execution_count": 47,
     "metadata": {},
     "output_type": "execute_result"
    }
   ],
   "source": [
    "df[(df[\"Age\"]<lower_limit) | (df[\"Age\"]>upper_limit)]"
   ]
  },
  {
   "cell_type": "code",
   "execution_count": 49,
   "id": "361e9609-4b9e-485c-ad16-ff71ac3723ab",
   "metadata": {},
   "outputs": [
    {
     "name": "stdout",
     "output_type": "stream",
     "text": [
      "Value counts for Gender:\n",
      "Gender\n",
      "Male      5841\n",
      "Female    4854\n",
      "Name: count, dtype: int64\n",
      "\n",
      "Value counts for Ever_Married:\n",
      "Ever_Married\n",
      "Yes    6353\n",
      "No     4342\n",
      "Name: count, dtype: int64\n",
      "\n",
      "Value counts for Graduated:\n",
      "Graduated\n",
      "Yes    6672\n",
      "No     4023\n",
      "Name: count, dtype: int64\n",
      "\n",
      "Value counts for Profession:\n",
      "Profession\n",
      "Artist           3480\n",
      "Healthcare       1750\n",
      "Entertainment    1250\n",
      "Engineer          935\n",
      "Doctor            930\n",
      "Lawyer            844\n",
      "Executive         775\n",
      "Marketing         403\n",
      "Homemaker         328\n",
      "Name: count, dtype: int64\n",
      "\n",
      "Value counts for Spending_Score:\n",
      "Spending_Score\n",
      "Low        6494\n",
      "Average    2599\n",
      "High       1602\n",
      "Name: count, dtype: int64\n",
      "\n",
      "Value counts for Anonymised_Category:\n",
      "Anonymised_Category\n",
      "Cat_6    7018\n",
      "Cat_4    1475\n",
      "Cat_3    1089\n",
      "Cat_2     563\n",
      "Cat_7     269\n",
      "Cat_1     167\n",
      "Cat_5     114\n",
      "Name: count, dtype: int64\n",
      "\n"
     ]
    }
   ],
   "source": [
    "categorical_vars = df.select_dtypes(include=['object', 'category']).columns\n",
    "value_counts_dict = {}\n",
    "for var in categorical_vars:\n",
    "    value_counts_dict[var] = df[var].value_counts()\n",
    "\n",
    "for var, counts in value_counts_dict.items():\n",
    "    print(f\"Value counts for {var}:\\n{counts}\\n\")"
   ]
  },
  {
   "cell_type": "code",
   "execution_count": 55,
   "id": "dc4b81f4-5280-492b-895e-1581be1e8ed1",
   "metadata": {},
   "outputs": [],
   "source": [
    "df[\"Graduated\"].replace({\"No\":0,\"Yes\":1},inplace=True)\n",
    "df[\"Ever_Married\"].replace({\"No\":0,\"Yes\":1},inplace=True)\n",
    "df[\"Profession\"].unique()\n",
    "df[\"Profession\"].replace({\"Healthcare\":0,\"Engineer\":1,'Lawyer':2, 'Entertainment':3, 'Artist':4,\n",
    "       'Executive':5, 'Doctor':6, 'Homemaker':7, 'Marketing':8},inplace=True)\n",
    "df[\"Gender\"].replace({\"Male\":[1],\"Female\":[0]},inplace=True)\n",
    "df[\"Anonymised_Category\"].unique()\n",
    "df[\"Anonymised_Category\"].replace({'Cat_4':3, 'Cat_6':5, 'Cat_7':6, 'Cat_3':2, 'Cat_1':0, 'Cat_2':1, 'Cat_5':4},inplace=True)\n",
    "df[\"Spending_Score\"].unique()\n",
    "df[\"Spending_Score\"].replace({\"Low\":0,\"Average\":1,\"High\":2},inplace=True)"
   ]
  },
  {
   "cell_type": "code",
   "execution_count": 61,
   "id": "87159297-9a07-4ee1-b42e-a88064cb27d2",
   "metadata": {},
   "outputs": [
    {
     "name": "stdout",
     "output_type": "stream",
     "text": [
      "   Gender  Ever_Married  Age  Graduated  Profession  Work_Experience  \\\n",
      "0       1             0   22          0           0              1.0   \n",
      "1       0             1   38          1           1              1.0   \n",
      "2       0             1   67          1           1              1.0   \n",
      "3       1             1   67          1           2              0.0   \n",
      "4       0             1   40          1           3              1.0   \n",
      "\n",
      "   Spending_Score  Family_Size  Anonymised_Category  Cluster  \n",
      "0               0          4.0                    3        4  \n",
      "1               1          3.0                    3        1  \n",
      "2               0          1.0                    5        1  \n",
      "3               2          2.0                    5        1  \n",
      "4               2          6.0                    5        1  \n"
     ]
    }
   ],
   "source": [
    "from sklearn.preprocessing import StandardScaler\n",
    "from scipy.cluster.hierarchy import dendrogram, linkage, fcluster\n",
    "features = df.select_dtypes(include=[np.number])\n",
    "scaler = StandardScaler()\n",
    "scaled_features = scaler.fit_transform(features)\n",
    "linked = linkage(scaled_features, method='ward')\n",
    "num_clusters = 4\n",
    "cluster_labels = fcluster(linked, num_clusters, criterion='maxclust')\n",
    "df['Cluster'] = cluster_labels\n",
    "print(df.head())"
   ]
  },
  {
   "cell_type": "code",
   "execution_count": 73,
   "id": "209e647e-eca7-497c-9df6-f97cd9d6bd0b",
   "metadata": {},
   "outputs": [
    {
     "data": {
      "text/html": [
       "<div>\n",
       "<style scoped>\n",
       "    .dataframe tbody tr th:only-of-type {\n",
       "        vertical-align: middle;\n",
       "    }\n",
       "\n",
       "    .dataframe tbody tr th {\n",
       "        vertical-align: top;\n",
       "    }\n",
       "\n",
       "    .dataframe thead th {\n",
       "        text-align: right;\n",
       "    }\n",
       "</style>\n",
       "<table border=\"1\" class=\"dataframe\">\n",
       "  <thead>\n",
       "    <tr style=\"text-align: right;\">\n",
       "      <th></th>\n",
       "      <th>Gender</th>\n",
       "      <th>Ever_Married</th>\n",
       "      <th>Age</th>\n",
       "      <th>Graduated</th>\n",
       "      <th>Profession</th>\n",
       "      <th>Work_Experience</th>\n",
       "      <th>Spending_Score</th>\n",
       "      <th>Family_Size</th>\n",
       "      <th>Anonymised_Category</th>\n",
       "      <th>Cluster</th>\n",
       "    </tr>\n",
       "  </thead>\n",
       "  <tbody>\n",
       "    <tr>\n",
       "      <th>Gender</th>\n",
       "      <td>1.000000</td>\n",
       "      <td>0.109510</td>\n",
       "      <td>0.025208</td>\n",
       "      <td>-0.038717</td>\n",
       "      <td>0.025417</td>\n",
       "      <td>-0.059001</td>\n",
       "      <td>0.059056</td>\n",
       "      <td>0.061357</td>\n",
       "      <td>0.029402</td>\n",
       "      <td>-0.122420</td>\n",
       "    </tr>\n",
       "    <tr>\n",
       "      <th>Ever_Married</th>\n",
       "      <td>0.109510</td>\n",
       "      <td>1.000000</td>\n",
       "      <td>0.559248</td>\n",
       "      <td>0.190520</td>\n",
       "      <td>0.192292</td>\n",
       "      <td>-0.094810</td>\n",
       "      <td>0.606080</td>\n",
       "      <td>-0.070035</td>\n",
       "      <td>0.075124</td>\n",
       "      <td>-0.799619</td>\n",
       "    </tr>\n",
       "    <tr>\n",
       "      <th>Age</th>\n",
       "      <td>0.025208</td>\n",
       "      <td>0.559248</td>\n",
       "      <td>1.000000</td>\n",
       "      <td>0.234660</td>\n",
       "      <td>0.126786</td>\n",
       "      <td>-0.177278</td>\n",
       "      <td>0.421978</td>\n",
       "      <td>-0.272147</td>\n",
       "      <td>0.169914</td>\n",
       "      <td>-0.569167</td>\n",
       "    </tr>\n",
       "    <tr>\n",
       "      <th>Graduated</th>\n",
       "      <td>-0.038717</td>\n",
       "      <td>0.190520</td>\n",
       "      <td>0.234660</td>\n",
       "      <td>1.000000</td>\n",
       "      <td>0.156335</td>\n",
       "      <td>0.041366</td>\n",
       "      <td>0.099843</td>\n",
       "      <td>-0.227750</td>\n",
       "      <td>0.125900</td>\n",
       "      <td>-0.292864</td>\n",
       "    </tr>\n",
       "    <tr>\n",
       "      <th>Profession</th>\n",
       "      <td>0.025417</td>\n",
       "      <td>0.192292</td>\n",
       "      <td>0.126786</td>\n",
       "      <td>0.156335</td>\n",
       "      <td>1.000000</td>\n",
       "      <td>0.068889</td>\n",
       "      <td>0.140295</td>\n",
       "      <td>-0.114610</td>\n",
       "      <td>0.040419</td>\n",
       "      <td>-0.186872</td>\n",
       "    </tr>\n",
       "    <tr>\n",
       "      <th>Work_Experience</th>\n",
       "      <td>-0.059001</td>\n",
       "      <td>-0.094810</td>\n",
       "      <td>-0.177278</td>\n",
       "      <td>0.041366</td>\n",
       "      <td>0.068889</td>\n",
       "      <td>1.000000</td>\n",
       "      <td>-0.075295</td>\n",
       "      <td>-0.060092</td>\n",
       "      <td>0.023879</td>\n",
       "      <td>0.005098</td>\n",
       "    </tr>\n",
       "    <tr>\n",
       "      <th>Spending_Score</th>\n",
       "      <td>0.059056</td>\n",
       "      <td>0.606080</td>\n",
       "      <td>0.421978</td>\n",
       "      <td>0.099843</td>\n",
       "      <td>0.140295</td>\n",
       "      <td>-0.075295</td>\n",
       "      <td>1.000000</td>\n",
       "      <td>0.097102</td>\n",
       "      <td>0.081389</td>\n",
       "      <td>-0.568576</td>\n",
       "    </tr>\n",
       "    <tr>\n",
       "      <th>Family_Size</th>\n",
       "      <td>0.061357</td>\n",
       "      <td>-0.070035</td>\n",
       "      <td>-0.272147</td>\n",
       "      <td>-0.227750</td>\n",
       "      <td>-0.114610</td>\n",
       "      <td>-0.060092</td>\n",
       "      <td>0.097102</td>\n",
       "      <td>1.000000</td>\n",
       "      <td>-0.146983</td>\n",
       "      <td>0.162675</td>\n",
       "    </tr>\n",
       "    <tr>\n",
       "      <th>Anonymised_Category</th>\n",
       "      <td>0.029402</td>\n",
       "      <td>0.075124</td>\n",
       "      <td>0.169914</td>\n",
       "      <td>0.125900</td>\n",
       "      <td>0.040419</td>\n",
       "      <td>0.023879</td>\n",
       "      <td>0.081389</td>\n",
       "      <td>-0.146983</td>\n",
       "      <td>1.000000</td>\n",
       "      <td>-0.131093</td>\n",
       "    </tr>\n",
       "    <tr>\n",
       "      <th>Cluster</th>\n",
       "      <td>-0.122420</td>\n",
       "      <td>-0.799619</td>\n",
       "      <td>-0.569167</td>\n",
       "      <td>-0.292864</td>\n",
       "      <td>-0.186872</td>\n",
       "      <td>0.005098</td>\n",
       "      <td>-0.568576</td>\n",
       "      <td>0.162675</td>\n",
       "      <td>-0.131093</td>\n",
       "      <td>1.000000</td>\n",
       "    </tr>\n",
       "  </tbody>\n",
       "</table>\n",
       "</div>"
      ],
      "text/plain": [
       "                       Gender  Ever_Married       Age  Graduated  Profession  \\\n",
       "Gender               1.000000      0.109510  0.025208  -0.038717    0.025417   \n",
       "Ever_Married         0.109510      1.000000  0.559248   0.190520    0.192292   \n",
       "Age                  0.025208      0.559248  1.000000   0.234660    0.126786   \n",
       "Graduated           -0.038717      0.190520  0.234660   1.000000    0.156335   \n",
       "Profession           0.025417      0.192292  0.126786   0.156335    1.000000   \n",
       "Work_Experience     -0.059001     -0.094810 -0.177278   0.041366    0.068889   \n",
       "Spending_Score       0.059056      0.606080  0.421978   0.099843    0.140295   \n",
       "Family_Size          0.061357     -0.070035 -0.272147  -0.227750   -0.114610   \n",
       "Anonymised_Category  0.029402      0.075124  0.169914   0.125900    0.040419   \n",
       "Cluster             -0.122420     -0.799619 -0.569167  -0.292864   -0.186872   \n",
       "\n",
       "                     Work_Experience  Spending_Score  Family_Size  \\\n",
       "Gender                     -0.059001        0.059056     0.061357   \n",
       "Ever_Married               -0.094810        0.606080    -0.070035   \n",
       "Age                        -0.177278        0.421978    -0.272147   \n",
       "Graduated                   0.041366        0.099843    -0.227750   \n",
       "Profession                  0.068889        0.140295    -0.114610   \n",
       "Work_Experience             1.000000       -0.075295    -0.060092   \n",
       "Spending_Score             -0.075295        1.000000     0.097102   \n",
       "Family_Size                -0.060092        0.097102     1.000000   \n",
       "Anonymised_Category         0.023879        0.081389    -0.146983   \n",
       "Cluster                     0.005098       -0.568576     0.162675   \n",
       "\n",
       "                     Anonymised_Category   Cluster  \n",
       "Gender                          0.029402 -0.122420  \n",
       "Ever_Married                    0.075124 -0.799619  \n",
       "Age                             0.169914 -0.569167  \n",
       "Graduated                       0.125900 -0.292864  \n",
       "Profession                      0.040419 -0.186872  \n",
       "Work_Experience                 0.023879  0.005098  \n",
       "Spending_Score                  0.081389 -0.568576  \n",
       "Family_Size                    -0.146983  0.162675  \n",
       "Anonymised_Category             1.000000 -0.131093  \n",
       "Cluster                        -0.131093  1.000000  "
      ]
     },
     "execution_count": 73,
     "metadata": {},
     "output_type": "execute_result"
    }
   ],
   "source": [
    "df.corr()"
   ]
  },
  {
   "cell_type": "code",
   "execution_count": 75,
   "id": "46da3e76-0451-46ff-8d63-90f6739d1a83",
   "metadata": {},
   "outputs": [
    {
     "data": {
      "image/png": "[encoded data removed]",
      "text/plain": [
       "<Figure size 1200x1000 with 2 Axes>"
      ]
     },
     "metadata": {},
     "output_type": "display_data"
    }
   ],
   "source": [
    "plt.figure(figsize=(12, 10))\n",
    "sns.heatmap(df.corr(), annot=True, fmt=\".2f\", cmap='coolwarm', square=True, cbar_kws={\"shrink\": .8})\n",
    "plt.title(\"Correlation Heatmap\", fontsize=16)\n",
    "plt.show()"
   ]
  },
  {
   "cell_type": "code",
   "execution_count": 101,
   "id": "695b89f5-505c-4be2-b379-052b982d2da8",
   "metadata": {},
   "outputs": [
    {
     "name": "stdout",
     "output_type": "stream",
     "text": [
      "   Cluster Ever_Married_Count  Average_Age  Average_Spending_Score\n",
      "0        1   {1: 4959, 0: 65}    53.417596                1.000199\n",
      "1        2  {1: 1009, 0: 949}    37.620020                0.366190\n",
      "2        3  {0: 1576, 1: 346}    38.808533                0.001041\n",
      "3        4   {0: 1752, 1: 39}    27.213289                0.032942\n"
     ]
    }
   ],
   "source": [
    "summary = df.groupby('Cluster').agg(\n",
    "    Ever_Married_Count=('Ever_Married', lambda x: x.value_counts().to_dict()),  \n",
    "    Average_Age=('Age', 'mean'),  \n",
    "    Average_Spending_Score=('Spending_Score', 'mean')  \n",
    ").reset_index()\n",
    "\n",
    "print(summary)"
   ]
  },
  {
   "cell_type": "code",
   "execution_count": 77,
   "id": "993ff22d-4749-4ce1-9dfa-498f413f4fad",
   "metadata": {},
   "outputs": [],
   "source": [
    "df.dropna(inplace=True)"
   ]
  },
  {
   "cell_type": "code",
   "execution_count": 79,
   "id": "10ddb3c5-f9b2-4761-b78e-50a57326046d",
   "metadata": {},
   "outputs": [],
   "source": [
    "x=df[['Gender', 'Ever_Married', 'Age', 'Graduated', 'Profession',\n",
    "       'Work_Experience', 'Spending_Score', 'Family_Size', 'Anonymised_Category']]\n",
    "y=df[\"Cluster\"]"
   ]
  },
  {
   "cell_type": "code",
   "execution_count": 81,
   "id": "4e0c1f9e-1c01-47eb-8171-ea05a99baaa9",
   "metadata": {},
   "outputs": [
    {
     "data": {
      "text/html": [
       "<div>\n",
       "<style scoped>\n",
       "    .dataframe tbody tr th:only-of-type {\n",
       "        vertical-align: middle;\n",
       "    }\n",
       "\n",
       "    .dataframe tbody tr th {\n",
       "        vertical-align: top;\n",
       "    }\n",
       "\n",
       "    .dataframe thead th {\n",
       "        text-align: right;\n",
       "    }\n",
       "</style>\n",
       "<table border=\"1\" class=\"dataframe\">\n",
       "  <thead>\n",
       "    <tr style=\"text-align: right;\">\n",
       "      <th></th>\n",
       "      <th>Gender</th>\n",
       "      <th>Ever_Married</th>\n",
       "      <th>Age</th>\n",
       "      <th>Graduated</th>\n",
       "      <th>Profession</th>\n",
       "      <th>Work_Experience</th>\n",
       "      <th>Spending_Score</th>\n",
       "      <th>Family_Size</th>\n",
       "      <th>Anonymised_Category</th>\n",
       "    </tr>\n",
       "  </thead>\n",
       "  <tbody>\n",
       "    <tr>\n",
       "      <th>0</th>\n",
       "      <td>1</td>\n",
       "      <td>0</td>\n",
       "      <td>22</td>\n",
       "      <td>0</td>\n",
       "      <td>0</td>\n",
       "      <td>1.0</td>\n",
       "      <td>0</td>\n",
       "      <td>4.0</td>\n",
       "      <td>3</td>\n",
       "    </tr>\n",
       "    <tr>\n",
       "      <th>1</th>\n",
       "      <td>0</td>\n",
       "      <td>1</td>\n",
       "      <td>38</td>\n",
       "      <td>1</td>\n",
       "      <td>1</td>\n",
       "      <td>1.0</td>\n",
       "      <td>1</td>\n",
       "      <td>3.0</td>\n",
       "      <td>3</td>\n",
       "    </tr>\n",
       "    <tr>\n",
       "      <th>2</th>\n",
       "      <td>0</td>\n",
       "      <td>1</td>\n",
       "      <td>67</td>\n",
       "      <td>1</td>\n",
       "      <td>1</td>\n",
       "      <td>1.0</td>\n",
       "      <td>0</td>\n",
       "      <td>1.0</td>\n",
       "      <td>5</td>\n",
       "    </tr>\n",
       "    <tr>\n",
       "      <th>3</th>\n",
       "      <td>1</td>\n",
       "      <td>1</td>\n",
       "      <td>67</td>\n",
       "      <td>1</td>\n",
       "      <td>2</td>\n",
       "      <td>0.0</td>\n",
       "      <td>2</td>\n",
       "      <td>2.0</td>\n",
       "      <td>5</td>\n",
       "    </tr>\n",
       "    <tr>\n",
       "      <th>4</th>\n",
       "      <td>0</td>\n",
       "      <td>1</td>\n",
       "      <td>40</td>\n",
       "      <td>1</td>\n",
       "      <td>3</td>\n",
       "      <td>1.0</td>\n",
       "      <td>2</td>\n",
       "      <td>6.0</td>\n",
       "      <td>5</td>\n",
       "    </tr>\n",
       "  </tbody>\n",
       "</table>\n",
       "</div>"
      ],
      "text/plain": [
       "   Gender  Ever_Married  Age  Graduated  Profession  Work_Experience  \\\n",
       "0       1             0   22          0           0              1.0   \n",
       "1       0             1   38          1           1              1.0   \n",
       "2       0             1   67          1           1              1.0   \n",
       "3       1             1   67          1           2              0.0   \n",
       "4       0             1   40          1           3              1.0   \n",
       "\n",
       "   Spending_Score  Family_Size  Anonymised_Category  \n",
       "0               0          4.0                    3  \n",
       "1               1          3.0                    3  \n",
       "2               0          1.0                    5  \n",
       "3               2          2.0                    5  \n",
       "4               2          6.0                    5  "
      ]
     },
     "execution_count": 81,
     "metadata": {},
     "output_type": "execute_result"
    }
   ],
   "source": [
    "x.head()"
   ]
  },
  {
   "cell_type": "code",
   "execution_count": 83,
   "id": "9e3c2dc0-3664-4d15-b909-ec0e851c16aa",
   "metadata": {},
   "outputs": [
    {
     "data": {
      "text/plain": [
       "0    4\n",
       "1    1\n",
       "2    1\n",
       "3    1\n",
       "4    1\n",
       "Name: Cluster, dtype: int32"
      ]
     },
     "execution_count": 83,
     "metadata": {},
     "output_type": "execute_result"
    }
   ],
   "source": [
    "y.head()"
   ]
  },
  {
   "cell_type": "code",
   "execution_count": 97,
   "id": "62497709-82cd-49b2-bc46-94466b599d40",
   "metadata": {},
   "outputs": [
    {
     "name": "stdout",
     "output_type": "stream",
     "text": [
      "train set accuracy:  0.6759755641441216\n",
      "test set accuracy:  0.6667913238593867\n",
      "cross validation score:  0.9324285858562318\n"
     ]
    }
   ],
   "source": [
    "from sklearn.linear_model import LogisticRegression\n",
    "from sklearn.model_selection import train_test_split\n",
    "from sklearn.preprocessing import StandardScaler\n",
    "from sklearn.metrics import accuracy_score\n",
    "from sklearn.model_selection import cross_val_score\n",
    "x_train,x_test,y_train,y_test=train_test_split(x,y,test_size=0.25,random_state=4)\n",
    "scaler=StandardScaler()\n",
    "x_train=scaler.fit_transform(x_train)\n",
    "x_test=scaler.transform(x_test)\n",
    "log_reg=LogisticRegression()\n",
    "log_reg.fit(x,y)\n",
    "y_pred_train=log_reg.predict(x_train)\n",
    "y_pred_test=log_reg.predict(x_test)\n",
    "print(\"train set accuracy: \",accuracy_score(y_train,y_pred_train))\n",
    "print(\"test set accuracy: \",accuracy_score(y_test,y_pred_test))\n",
    "print(\"cross validation score: \",cross_val_score(log_reg,x_train,y_train,cv=5).mean())"
   ]
  },
  {
   "cell_type": "code",
   "execution_count": null,
   "id": "cc207f83-849b-44a7-90f5-24bfa8807d60",
   "metadata": {},
   "outputs": [],
   "source": []
  }
 ],
 "metadata": {
  "kernelspec": {
   "display_name": "Python 3 (ipykernel)",
   "language": "python",
   "name": "python3"
  },
  "language_info": {
   "codemirror_mode": {
    "name": "ipython",
    "version": 3
   },
   "file_extension": ".py",
   "mimetype": "text/x-python",
   "name": "python",
   "nbconvert_exporter": "python",
   "pygments_lexer": "ipython3",
   "version": "3.10.11"
  }
 },
 "nbformat": 4,
 "nbformat_minor": 5
}
