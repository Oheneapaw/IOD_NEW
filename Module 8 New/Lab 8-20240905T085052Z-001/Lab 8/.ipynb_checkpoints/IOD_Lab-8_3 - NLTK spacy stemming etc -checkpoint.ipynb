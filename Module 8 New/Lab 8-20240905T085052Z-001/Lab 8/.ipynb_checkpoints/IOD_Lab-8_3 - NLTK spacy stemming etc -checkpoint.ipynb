{
 "cells": [
  {
   "cell_type": "markdown",
   "metadata": {
    "id": "XXUiceLiLNOv"
   },
   "source": [
    "<div>\n",
    "<img src=https://www.institutedata.com/wp-content/uploads/2019/10/iod_h_tp_primary_c.svg width=\"300\">\n",
    "</div>"
   ]
  },
  {
   "cell_type": "markdown",
   "metadata": {
    "id": "SmJwFqq5LNOx"
   },
   "source": [
    "# Lab 8.3: Working with Text\n",
    "- Using [NLTK](http://www.nltk.org) (Natural Language Toolkit)\n",
    "- Using [spaCy](https://spacy.io)\n",
    "\n",
    "INSTRUCTIONS:\n",
    "- Run the cells\n",
    "- Observe and understand the results\n",
    "- Answer the questions"
   ]
  },
  {
   "cell_type": "markdown",
   "metadata": {
    "id": "I83eiiJqLNO0"
   },
   "source": [
    "## Import libraries"
   ]
  },
  {
   "cell_type": "code",
   "execution_count": 26,
   "metadata": {
    "ExecuteTime": {
     "end_time": "2019-06-17T01:17:23.125143Z",
     "start_time": "2019-06-17T01:17:20.625946Z"
    },
    "id": "-ecJn_1MLNO4"
   },
   "outputs": [],
   "source": [
    "# Use Python's built-in 're' module\n",
    "import re\n",
    "import matplotlib.pyplot as plt\n",
    "from collections import Counter\n",
    "import spacy\n",
    "import nltk"
   ]
  },
  {
   "cell_type": "code",
   "execution_count": 27,
   "metadata": {},
   "outputs": [
    {
     "name": "stdout",
     "output_type": "stream",
     "text": [
      "Requirement already satisfied: nltk in c:\\users\\ohene\\anaconda3\\envs\\iod\\lib\\site-packages (3.9.1)\n",
      "Requirement already satisfied: tqdm in c:\\users\\ohene\\anaconda3\\envs\\iod\\lib\\site-packages (from nltk) (4.66.4)\n",
      "Requirement already satisfied: regex>=2021.8.3 in c:\\users\\ohene\\anaconda3\\envs\\iod\\lib\\site-packages (from nltk) (2024.9.11)\n",
      "Requirement already satisfied: joblib in c:\\users\\ohene\\anaconda3\\envs\\iod\\lib\\site-packages (from nltk) (1.4.2)\n",
      "Requirement already satisfied: click in c:\\users\\ohene\\anaconda3\\envs\\iod\\lib\\site-packages (from nltk) (8.1.7)\n",
      "Requirement already satisfied: colorama in c:\\users\\ohene\\anaconda3\\envs\\iod\\lib\\site-packages (from click->nltk) (0.4.6)\n"
     ]
    }
   ],
   "source": [
    "!pip install nltk\n"
   ]
  },
  {
   "cell_type": "code",
   "execution_count": 28,
   "metadata": {},
   "outputs": [
    {
     "name": "stderr",
     "output_type": "stream",
     "text": [
      "[nltk_data] Downloading package punkt to\n",
      "[nltk_data]     C:\\Users\\ohene\\AppData\\Roaming\\nltk_data...\n",
      "[nltk_data]   Package punkt is already up-to-date!\n"
     ]
    },
    {
     "data": {
      "text/plain": [
       "True"
      ]
     },
     "execution_count": 28,
     "metadata": {},
     "output_type": "execute_result"
    }
   ],
   "source": [
    "import nltk\n",
    "\n",
    "# Download required NLTK data\n",
    "nltk.download('punkt')\n"
   ]
  },
  {
   "cell_type": "code",
   "execution_count": 29,
   "metadata": {},
   "outputs": [
    {
     "name": "stdout",
     "output_type": "stream",
     "text": [
      "Requirement already satisfied: spacy in c:\\users\\ohene\\anaconda3\\envs\\iod\\lib\\site-packages (3.7.6)\n",
      "Requirement already satisfied: typer<1.0.0,>=0.3.0 in c:\\users\\ohene\\anaconda3\\envs\\iod\\lib\\site-packages (from spacy) (0.12.5)\n",
      "Requirement already satisfied: catalogue<2.1.0,>=2.0.6 in c:\\users\\ohene\\anaconda3\\envs\\iod\\lib\\site-packages (from spacy) (2.0.10)\n",
      "Requirement already satisfied: srsly<3.0.0,>=2.4.3 in c:\\users\\ohene\\anaconda3\\envs\\iod\\lib\\site-packages (from spacy) (2.4.8)\n",
      "Requirement already satisfied: thinc<8.3.0,>=8.2.2 in c:\\users\\ohene\\anaconda3\\envs\\iod\\lib\\site-packages (from spacy) (8.2.5)\n",
      "Requirement already satisfied: cymem<2.1.0,>=2.0.2 in c:\\users\\ohene\\anaconda3\\envs\\iod\\lib\\site-packages (from spacy) (2.0.8)\n",
      "Requirement already satisfied: preshed<3.1.0,>=3.0.2 in c:\\users\\ohene\\anaconda3\\envs\\iod\\lib\\site-packages (from spacy) (3.0.9)\n",
      "Requirement already satisfied: jinja2 in c:\\users\\ohene\\anaconda3\\envs\\iod\\lib\\site-packages (from spacy) (3.1.2)\n",
      "Requirement already satisfied: murmurhash<1.1.0,>=0.28.0 in c:\\users\\ohene\\anaconda3\\envs\\iod\\lib\\site-packages (from spacy) (1.0.10)\n",
      "Requirement already satisfied: pydantic!=1.8,!=1.8.1,<3.0.0,>=1.7.4 in c:\\users\\ohene\\anaconda3\\envs\\iod\\lib\\site-packages (from spacy) (2.9.0)\n",
      "Requirement already satisfied: numpy>=1.19.0 in c:\\users\\ohene\\anaconda3\\envs\\iod\\lib\\site-packages (from spacy) (1.24.3)\n",
      "Requirement already satisfied: spacy-loggers<2.0.0,>=1.0.0 in c:\\users\\ohene\\anaconda3\\envs\\iod\\lib\\site-packages (from spacy) (1.0.5)\n",
      "Requirement already satisfied: tqdm<5.0.0,>=4.38.0 in c:\\users\\ohene\\anaconda3\\envs\\iod\\lib\\site-packages (from spacy) (4.66.4)\n",
      "Requirement already satisfied: packaging>=20.0 in c:\\users\\ohene\\anaconda3\\envs\\iod\\lib\\site-packages (from spacy) (23.0)\n",
      "Requirement already satisfied: wasabi<1.2.0,>=0.9.1 in c:\\users\\ohene\\anaconda3\\envs\\iod\\lib\\site-packages (from spacy) (1.1.3)\n",
      "Requirement already satisfied: spacy-legacy<3.1.0,>=3.0.11 in c:\\users\\ohene\\anaconda3\\envs\\iod\\lib\\site-packages (from spacy) (3.0.12)\n",
      "Requirement already satisfied: langcodes<4.0.0,>=3.2.0 in c:\\users\\ohene\\anaconda3\\envs\\iod\\lib\\site-packages (from spacy) (3.4.0)\n",
      "Requirement already satisfied: setuptools in c:\\users\\ohene\\anaconda3\\envs\\iod\\lib\\site-packages (from spacy) (67.8.0)\n",
      "Requirement already satisfied: weasel<0.5.0,>=0.1.0 in c:\\users\\ohene\\anaconda3\\envs\\iod\\lib\\site-packages (from spacy) (0.4.1)\n",
      "Requirement already satisfied: requests<3.0.0,>=2.13.0 in c:\\users\\ohene\\anaconda3\\envs\\iod\\lib\\site-packages (from spacy) (2.29.0)\n",
      "Requirement already satisfied: language-data>=1.2 in c:\\users\\ohene\\anaconda3\\envs\\iod\\lib\\site-packages (from langcodes<4.0.0,>=3.2.0->spacy) (1.2.0)\n",
      "Requirement already satisfied: tzdata in c:\\users\\ohene\\anaconda3\\envs\\iod\\lib\\site-packages (from pydantic!=1.8,!=1.8.1,<3.0.0,>=1.7.4->spacy) (2024.1)\n",
      "Requirement already satisfied: pydantic-core==2.23.2 in c:\\users\\ohene\\anaconda3\\envs\\iod\\lib\\site-packages (from pydantic!=1.8,!=1.8.1,<3.0.0,>=1.7.4->spacy) (2.23.2)\n",
      "Requirement already satisfied: typing-extensions>=4.6.1 in c:\\users\\ohene\\anaconda3\\envs\\iod\\lib\\site-packages (from pydantic!=1.8,!=1.8.1,<3.0.0,>=1.7.4->spacy) (4.12.2)\n",
      "Requirement already satisfied: annotated-types>=0.4.0 in c:\\users\\ohene\\anaconda3\\envs\\iod\\lib\\site-packages (from pydantic!=1.8,!=1.8.1,<3.0.0,>=1.7.4->spacy) (0.7.0)\n",
      "Requirement already satisfied: certifi>=2017.4.17 in c:\\users\\ohene\\anaconda3\\envs\\iod\\lib\\site-packages (from requests<3.0.0,>=2.13.0->spacy) (2024.6.2)\n",
      "Requirement already satisfied: idna<4,>=2.5 in c:\\users\\ohene\\anaconda3\\envs\\iod\\lib\\site-packages (from requests<3.0.0,>=2.13.0->spacy) (3.4)\n",
      "Requirement already satisfied: charset-normalizer<4,>=2 in c:\\users\\ohene\\anaconda3\\envs\\iod\\lib\\site-packages (from requests<3.0.0,>=2.13.0->spacy) (2.0.4)\n",
      "Requirement already satisfied: urllib3<1.27,>=1.21.1 in c:\\users\\ohene\\anaconda3\\envs\\iod\\lib\\site-packages (from requests<3.0.0,>=2.13.0->spacy) (1.26.15)\n",
      "Requirement already satisfied: confection<1.0.0,>=0.0.1 in c:\\users\\ohene\\anaconda3\\envs\\iod\\lib\\site-packages (from thinc<8.3.0,>=8.2.2->spacy) (0.1.5)\n",
      "Requirement already satisfied: blis<0.8.0,>=0.7.8 in c:\\users\\ohene\\anaconda3\\envs\\iod\\lib\\site-packages (from thinc<8.3.0,>=8.2.2->spacy) (0.7.11)\n",
      "Requirement already satisfied: colorama in c:\\users\\ohene\\anaconda3\\envs\\iod\\lib\\site-packages (from tqdm<5.0.0,>=4.38.0->spacy) (0.4.6)\n",
      "Requirement already satisfied: shellingham>=1.3.0 in c:\\users\\ohene\\anaconda3\\envs\\iod\\lib\\site-packages (from typer<1.0.0,>=0.3.0->spacy) (1.5.4)\n",
      "Requirement already satisfied: rich>=10.11.0 in c:\\users\\ohene\\anaconda3\\envs\\iod\\lib\\site-packages (from typer<1.0.0,>=0.3.0->spacy) (13.8.0)\n",
      "Requirement already satisfied: click>=8.0.0 in c:\\users\\ohene\\anaconda3\\envs\\iod\\lib\\site-packages (from typer<1.0.0,>=0.3.0->spacy) (8.1.7)\n",
      "Requirement already satisfied: cloudpathlib<1.0.0,>=0.7.0 in c:\\users\\ohene\\anaconda3\\envs\\iod\\lib\\site-packages (from weasel<0.5.0,>=0.1.0->spacy) (0.19.0)\n",
      "Requirement already satisfied: smart-open<8.0.0,>=5.2.1 in c:\\users\\ohene\\anaconda3\\envs\\iod\\lib\\site-packages (from weasel<0.5.0,>=0.1.0->spacy) (7.0.4)\n",
      "Requirement already satisfied: MarkupSafe>=2.0 in c:\\users\\ohene\\anaconda3\\envs\\iod\\lib\\site-packages (from jinja2->spacy) (2.1.1)\n",
      "Requirement already satisfied: marisa-trie>=0.7.7 in c:\\users\\ohene\\anaconda3\\envs\\iod\\lib\\site-packages (from language-data>=1.2->langcodes<4.0.0,>=3.2.0->spacy) (1.2.0)\n",
      "Requirement already satisfied: pygments<3.0.0,>=2.13.0 in c:\\users\\ohene\\anaconda3\\envs\\iod\\lib\\site-packages (from rich>=10.11.0->typer<1.0.0,>=0.3.0->spacy) (2.15.1)\n",
      "Requirement already satisfied: markdown-it-py>=2.2.0 in c:\\users\\ohene\\anaconda3\\envs\\iod\\lib\\site-packages (from rich>=10.11.0->typer<1.0.0,>=0.3.0->spacy) (3.0.0)\n",
      "Requirement already satisfied: wrapt in c:\\users\\ohene\\anaconda3\\envs\\iod\\lib\\site-packages (from smart-open<8.0.0,>=5.2.1->weasel<0.5.0,>=0.1.0->spacy) (1.16.0)\n",
      "Requirement already satisfied: mdurl~=0.1 in c:\\users\\ohene\\anaconda3\\envs\\iod\\lib\\site-packages (from markdown-it-py>=2.2.0->rich>=10.11.0->typer<1.0.0,>=0.3.0->spacy) (0.1.2)\n",
      "Note: you may need to restart the kernel to use updated packages.\n"
     ]
    }
   ],
   "source": [
    "pip install spacy\n"
   ]
  },
  {
   "cell_type": "markdown",
   "metadata": {
    "id": "OsSgzr8MLNO9"
   },
   "source": [
    "## Load data"
   ]
  },
  {
   "cell_type": "code",
   "execution_count": 30,
   "metadata": {
    "ExecuteTime": {
     "end_time": "2019-06-17T01:17:24.800475Z",
     "start_time": "2019-06-17T01:17:24.784516Z"
    },
    "id": "HvyU9ZbtLNPA"
   },
   "outputs": [],
   "source": [
    "## Loading the data\n",
    "\n",
    "input_file = \"C:/Users/ohene/OneDrive/Documents/new_repo/DATA/ncc-1701-D.txt\"\n",
    "\n",
    "with open(input_file, 'r') as f:\n",
    "    text = f.read()"
   ]
  },
  {
   "cell_type": "markdown",
   "metadata": {
    "id": "KF9gBdpALNPE"
   },
   "source": [
    "## Inspect the data"
   ]
  },
  {
   "cell_type": "code",
   "execution_count": 31,
   "metadata": {
    "ExecuteTime": {
     "end_time": "2019-06-17T01:17:28.662206Z",
     "start_time": "2019-06-17T01:17:28.656190Z"
    },
    "id": "-JImxUzrLNPG",
    "outputId": "13ce31ea-531e-4abd-8f21-c726df89bb21",
    "scrolled": true
   },
   "outputs": [
    {
     "name": "stdout",
     "output_type": "stream",
     "text": [
      "USS Enterprise (NCC-1701-D)\n",
      "\n",
      "\"For five hundred years, every ship that has borne the name of the Enterprise has become a legend. This one is no different.\"\n",
      "\n",
      "The USS Enterprise (NCC-1701-D) was a 24th century United Federation of Planets Galaxy Class starship operated by Starfleet, and the fifth Federation ship to bear the name Enterprise. During her career, the Enterprise served as the Federation flagship. The Enterprise was destroyed during the Battle of Veridian III in 2371.\n",
      "\n",
      "==History==\n",
      "===Construction and launch===\n",
      "The Enterprise was built at Utopia Planitia Fleet Yards orbiting Mars in the Solar system. The construction was a massive undertaking, involving thousands of people across disciplines. Construction was supervised by Commander Orfil Quinteros. Dr. Leah Brahms was responsible for much of the Enterprise's warp propulsion system design. Some of the Enterprise's components were derived from technology originally developed on the USS Pegasus.\n",
      "\n",
      "One of the ship's nacelle tube was\n"
     ]
    }
   ],
   "source": [
    "print(text[:1000])"
   ]
  },
  {
   "cell_type": "markdown",
   "metadata": {
    "id": "H5ePf_5bLNPK"
   },
   "source": [
    "## Work the data\n",
    "- if necessary or desired\n",
    "    - remove text or content, e.g. quotes (\") or metadata (===)\n",
    "    - add content or markers, e.g. (#FLAG, --NAME--)\n",
    "    - remove or convert special symbols, e.g. \"é\" to \"e\"\n",
    "    - remove or convert emoticons"
   ]
  },
  {
   "cell_type": "code",
   "execution_count": 32,
   "metadata": {
    "ExecuteTime": {
     "end_time": "2019-06-17T01:18:07.223561Z",
     "start_time": "2019-06-17T01:18:07.219572Z"
    },
    "id": "BRq7VfoOLNPM"
   },
   "outputs": [
    {
     "name": "stdout",
     "output_type": "stream",
     "text": [
      "USS Enterprise NCC1701D\n",
      "\n",
      "For five hundred years every ship that has borne the name of the Enterprise has become a legend This one is no different\n",
      "\n",
      "The USS Enterprise NCC1701D was a 24th century United Federation of Planets Galaxy Class starship operated by Starfleet and the fifth Federation ship to bear the name Enterprise During her career the Enterprise served as the Federation flagship The Enterprise was destroyed during the Battle of Veridian III in 2371\n",
      "\n",
      "History\n",
      "Construction and launch\n",
      "The Enterprise was built at Utopia Planitia Fleet Yards orbiting Mars in the Solar system The construction was a massive undertaking involving thousands of people across disciplines Construction was supervised by Commander Orfil Quinteros Dr Leah Brahms was responsible for much of the Enterprises warp propulsion system design Some of the Enterprises components were derived from technology originally developed on the USS Pegasus\n",
      "\n",
      "One of the ships nacelle tube was the site of a multiple murdersuicide while she was still under construction at Utopia Planitia A member of the construction team Walter Pierce became jealous of a former lovers new relationship He killed the two officers Marla Finn and William Hodges then disposed of their bodies in the plasma stream Pierce committed suicide in the same manner leaving a telepathic imprint in a bulkhead that was not discovered until 2370\n",
      "\n",
      "On stardate 407595 in the year 2363 the Enterprise was launched from Mars On stardate 410255 the Enterprise was commissioned\n",
      "\n",
      "These stardates werent mentioned in dialog they were from the Enterprise dedication plaque\n",
      "\n",
      "Final systems completion and shakedown was conducted at Earth Station McKinley Captain JeanLuc Picard took command of the ship on stardate 41148 at the order of Rear Admiral Norah Satie\n",
      "\n",
      "Legacy\n",
      "Commander Riker was upset over the loss of the Enterprise Having hoped he would one day command the ship he was disappointed that he never got that opportunity However Picard expressed doubt that the EnterpriseD would be the last vessel to carry the name\n",
      "\n",
      "The Enterprise was so dear to Worf that shortly after being reassigned to Deep Space 9 in 2372 he briefly considered resigning from Starfleet Station commander Captain Benjamin Sisko expressed regret on the loss of the Enterprise and offered his condolences over the destruction of the ship to Worf saying the Enterprise was a good ship\n",
      "\n",
      "Captain Picards belief that the EnterpriseD would not be the final ship to bear the name was borne out with the christening of the Class Sovereign USS Enterprise NCC1701E later the same year In that instance the legacy of the Enterprise continued with Picard reprising his role as CO and selecting most of the former crew from the EnterpriseD with the notable exception of Worf due to his most recent assignment to DS9 though he temporarily joined the EnterpriseE crew on several of their more notable missions\n"
     ]
    }
   ],
   "source": [
    "# ANSWER\n",
    "# Removing unnecessary content (example: removing special symbols)\n",
    "\n",
    "cleaned_text = re.sub(r'[^\\w\\s]', '', text)  # Remove all punctuation\n",
    "print(cleaned_text)"
   ]
  },
  {
   "cell_type": "markdown",
   "metadata": {
    "id": "xMG9Yim0LNPP"
   },
   "source": [
    "## Helper method"
   ]
  },
  {
   "cell_type": "code",
   "execution_count": 33,
   "metadata": {
    "ExecuteTime": {
     "end_time": "2019-06-17T01:18:44.351070Z",
     "start_time": "2019-06-17T01:18:44.330126Z"
    },
    "id": "3oIPRH3gLNPQ"
   },
   "outputs": [],
   "source": [
    "# create a bar chart of the frequency of the words in the text\n",
    "def plot_words(tokens, top = 30):\n",
    "    tokens_counter = Counter(tokens)\n",
    "    tok = [t for (t, _) in tokens_counter.most_common()]\n",
    "    val = [v for (_, v) in tokens_counter.most_common()]\n",
    "\n",
    "    plt.figure(figsize = (16, 6))\n",
    "    plt.bar(tok[:top], val[:top])\n",
    "    plt.title('Number of terms: %d' % len(tokens_counter))\n",
    "    plt.xticks(rotation = 90)\n",
    "    \n",
    "    for i, label in enumerate(val[:top]):\n",
    "        plt.text(i, label, label, ha='center', va='bottom')\n",
    "\n",
    "    plt.show()"
   ]
  },
  {
   "cell_type": "markdown",
   "metadata": {
    "id": "U1FsFC6yLNPS"
   },
   "source": [
    "## spaCy model invocation and text processing\n",
    "spaCy does the processing of the text as part of the reading of the data."
   ]
  },
  {
   "cell_type": "code",
   "execution_count": 34,
   "metadata": {
    "ExecuteTime": {
     "end_time": "2019-06-17T01:18:18.119766Z",
     "start_time": "2019-06-17T01:18:16.984471Z"
    },
    "id": "JgM48u-dLNPU"
   },
   "outputs": [
    {
     "name": "stdout",
     "output_type": "stream",
     "text": [
      "Collecting en-core-web-sm==3.7.1\n",
      "  Downloading https://github.com/explosion/spacy-models/releases/download/en_core_web_sm-3.7.1/en_core_web_sm-3.7.1-py3-none-any.whl (12.8 MB)\n",
      "     ---------------------------------------- 0.0/12.8 MB ? eta -:--:--\n",
      "     ---------------------------------------- 0.0/12.8 MB ? eta -:--:--\n",
      "     ---------------------------------------- 0.0/12.8 MB ? eta -:--:--\n",
      "     ---------------------------------------- 0.0/12.8 MB ? eta -:--:--\n",
      "     ---------------------------------------- 0.1/12.8 MB 3.2 MB/s eta 0:00:04\n",
      "     --------------------------------------- 0.1/12.8 MB 975.2 kB/s eta 0:00:14\n",
      "     --------------------------------------- 0.1/12.8 MB 901.1 kB/s eta 0:00:15\n",
      "      -------------------------------------- 0.2/12.8 MB 952.6 kB/s eta 0:00:14\n",
      "      -------------------------------------- 0.2/12.8 MB 958.4 kB/s eta 0:00:14\n",
      "      --------------------------------------- 0.3/12.8 MB 1.0 MB/s eta 0:00:13\n",
      "      -------------------------------------- 0.3/12.8 MB 981.5 kB/s eta 0:00:13\n",
      "     - -------------------------------------- 0.4/12.8 MB 1.0 MB/s eta 0:00:12\n",
      "     - -------------------------------------- 0.4/12.8 MB 1.1 MB/s eta 0:00:12\n",
      "     - -------------------------------------- 0.5/12.8 MB 1.1 MB/s eta 0:00:12\n",
      "     - -------------------------------------- 0.6/12.8 MB 1.1 MB/s eta 0:00:12\n",
      "     - -------------------------------------- 0.6/12.8 MB 1.1 MB/s eta 0:00:11\n",
      "     -- ------------------------------------- 0.7/12.8 MB 1.1 MB/s eta 0:00:11\n",
      "     -- ------------------------------------- 0.7/12.8 MB 1.1 MB/s eta 0:00:11\n",
      "     -- ------------------------------------- 0.8/12.8 MB 1.2 MB/s eta 0:00:11\n",
      "     -- ------------------------------------- 0.9/12.8 MB 1.2 MB/s eta 0:00:11\n",
      "     -- ------------------------------------- 0.9/12.8 MB 1.2 MB/s eta 0:00:10\n",
      "     --- ------------------------------------ 1.0/12.8 MB 1.2 MB/s eta 0:00:10\n",
      "     --- ------------------------------------ 1.1/12.8 MB 1.2 MB/s eta 0:00:10\n",
      "     --- ------------------------------------ 1.1/12.8 MB 1.2 MB/s eta 0:00:10\n",
      "     --- ------------------------------------ 1.2/12.8 MB 1.3 MB/s eta 0:00:10\n",
      "     --- ------------------------------------ 1.2/12.8 MB 1.3 MB/s eta 0:00:10\n",
      "     ---- ----------------------------------- 1.3/12.8 MB 1.2 MB/s eta 0:00:10\n",
      "     ---- ----------------------------------- 1.4/12.8 MB 1.3 MB/s eta 0:00:10\n",
      "     ---- ----------------------------------- 1.5/12.8 MB 1.3 MB/s eta 0:00:09\n",
      "     ---- ----------------------------------- 1.5/12.8 MB 1.3 MB/s eta 0:00:09\n",
      "     ----- ---------------------------------- 1.6/12.8 MB 1.3 MB/s eta 0:00:09\n",
      "     ----- ---------------------------------- 1.7/12.8 MB 1.3 MB/s eta 0:00:09\n",
      "     ----- ---------------------------------- 1.8/12.8 MB 1.4 MB/s eta 0:00:09\n",
      "     ----- ---------------------------------- 1.9/12.8 MB 1.4 MB/s eta 0:00:08\n",
      "     ------ --------------------------------- 2.0/12.8 MB 1.4 MB/s eta 0:00:08\n",
      "     ------ --------------------------------- 2.1/12.8 MB 1.4 MB/s eta 0:00:08\n",
      "     ------ --------------------------------- 2.2/12.8 MB 1.4 MB/s eta 0:00:08\n",
      "     ------- -------------------------------- 2.3/12.8 MB 1.5 MB/s eta 0:00:08\n",
      "     ------- -------------------------------- 2.4/12.8 MB 1.5 MB/s eta 0:00:08\n",
      "     ------- -------------------------------- 2.5/12.8 MB 1.5 MB/s eta 0:00:07\n",
      "     -------- ------------------------------- 2.6/12.8 MB 1.5 MB/s eta 0:00:07\n",
      "     -------- ------------------------------- 2.7/12.8 MB 1.5 MB/s eta 0:00:07\n",
      "     -------- ------------------------------- 2.8/12.8 MB 1.6 MB/s eta 0:00:07\n",
      "     -------- ------------------------------- 2.9/12.8 MB 1.6 MB/s eta 0:00:07\n",
      "     --------- ------------------------------ 3.0/12.8 MB 1.6 MB/s eta 0:00:07\n",
      "     --------- ------------------------------ 3.1/12.8 MB 1.6 MB/s eta 0:00:06\n",
      "     --------- ------------------------------ 3.1/12.8 MB 1.6 MB/s eta 0:00:06\n",
      "     --------- ------------------------------ 3.1/12.8 MB 1.6 MB/s eta 0:00:06\n",
      "     --------- ------------------------------ 3.1/12.8 MB 1.6 MB/s eta 0:00:06\n",
      "     --------- ------------------------------ 3.1/12.8 MB 1.6 MB/s eta 0:00:06\n",
      "     --------- ------------------------------ 3.1/12.8 MB 1.6 MB/s eta 0:00:06\n",
      "     --------- ------------------------------ 3.1/12.8 MB 1.6 MB/s eta 0:00:06\n",
      "     --------- ------------------------------ 3.1/12.8 MB 1.6 MB/s eta 0:00:06\n",
      "     --------- ------------------------------ 3.1/12.8 MB 1.6 MB/s eta 0:00:06\n",
      "     --------- ------------------------------ 3.1/12.8 MB 1.6 MB/s eta 0:00:06\n",
      "     --------- ------------------------------ 3.1/12.8 MB 1.3 MB/s eta 0:00:08\n",
      "     ---------- ----------------------------- 3.2/12.8 MB 1.3 MB/s eta 0:00:08\n",
      "     ---------- ----------------------------- 3.2/12.8 MB 1.3 MB/s eta 0:00:08\n",
      "     ---------- ----------------------------- 3.2/12.8 MB 1.3 MB/s eta 0:00:08\n",
      "     ---------- ----------------------------- 3.3/12.8 MB 1.3 MB/s eta 0:00:08\n",
      "     ---------- ----------------------------- 3.3/12.8 MB 1.3 MB/s eta 0:00:08\n",
      "     ---------- ----------------------------- 3.4/12.8 MB 1.3 MB/s eta 0:00:08\n",
      "     ---------- ----------------------------- 3.5/12.8 MB 1.3 MB/s eta 0:00:08\n",
      "     ----------- ---------------------------- 3.6/12.8 MB 1.3 MB/s eta 0:00:08\n",
      "     ----------- ---------------------------- 3.7/12.8 MB 1.3 MB/s eta 0:00:07\n",
      "     ----------- ---------------------------- 3.8/12.8 MB 1.3 MB/s eta 0:00:07\n",
      "     ------------ --------------------------- 3.9/12.8 MB 1.3 MB/s eta 0:00:07\n",
      "     ------------ --------------------------- 4.0/12.8 MB 1.4 MB/s eta 0:00:07\n",
      "     ------------ --------------------------- 4.0/12.8 MB 1.4 MB/s eta 0:00:07\n",
      "     ------------ --------------------------- 4.1/12.8 MB 1.4 MB/s eta 0:00:07\n",
      "     ------------- -------------------------- 4.2/12.8 MB 1.4 MB/s eta 0:00:07\n",
      "     ------------- -------------------------- 4.3/12.8 MB 1.4 MB/s eta 0:00:07\n",
      "     ------------- -------------------------- 4.4/12.8 MB 1.4 MB/s eta 0:00:06\n",
      "     -------------- ------------------------- 4.5/12.8 MB 1.4 MB/s eta 0:00:06\n",
      "     -------------- ------------------------- 4.6/12.8 MB 1.4 MB/s eta 0:00:06\n",
      "     -------------- ------------------------- 4.7/12.8 MB 1.4 MB/s eta 0:00:06\n",
      "     --------------- ------------------------ 4.8/12.8 MB 1.4 MB/s eta 0:00:06\n",
      "     --------------- ------------------------ 4.9/12.8 MB 1.5 MB/s eta 0:00:06\n",
      "     --------------- ------------------------ 5.0/12.8 MB 1.5 MB/s eta 0:00:06\n",
      "     ---------------- ----------------------- 5.1/12.8 MB 1.5 MB/s eta 0:00:06\n",
      "     ---------------- ----------------------- 5.3/12.8 MB 1.5 MB/s eta 0:00:06\n",
      "     ---------------- ----------------------- 5.4/12.8 MB 1.5 MB/s eta 0:00:05\n",
      "     ----------------- ---------------------- 5.5/12.8 MB 1.5 MB/s eta 0:00:05\n",
      "     ----------------- ---------------------- 5.6/12.8 MB 1.5 MB/s eta 0:00:05\n",
      "     ----------------- ---------------------- 5.7/12.8 MB 1.5 MB/s eta 0:00:05\n",
      "     ------------------ --------------------- 5.8/12.8 MB 1.5 MB/s eta 0:00:05\n",
      "     ------------------ --------------------- 5.9/12.8 MB 1.6 MB/s eta 0:00:05\n",
      "     ------------------ --------------------- 6.1/12.8 MB 1.6 MB/s eta 0:00:05\n",
      "     ------------------- -------------------- 6.2/12.8 MB 1.6 MB/s eta 0:00:05\n",
      "     ------------------- -------------------- 6.3/12.8 MB 1.6 MB/s eta 0:00:05\n",
      "     -------------------- ------------------- 6.4/12.8 MB 1.6 MB/s eta 0:00:04\n",
      "     -------------------- ------------------- 6.6/12.8 MB 1.6 MB/s eta 0:00:04\n",
      "     -------------------- ------------------- 6.7/12.8 MB 1.6 MB/s eta 0:00:04\n",
      "     --------------------- ------------------ 6.8/12.8 MB 1.6 MB/s eta 0:00:04\n",
      "     --------------------- ------------------ 6.8/12.8 MB 1.6 MB/s eta 0:00:04\n",
      "     --------------------- ------------------ 6.8/12.8 MB 1.6 MB/s eta 0:00:04\n",
      "     --------------------- ------------------ 6.9/12.8 MB 1.6 MB/s eta 0:00:04\n",
      "     --------------------- ------------------ 7.0/12.8 MB 1.6 MB/s eta 0:00:04\n",
      "     ---------------------- ----------------- 7.1/12.8 MB 1.6 MB/s eta 0:00:04\n",
      "     ---------------------- ----------------- 7.2/12.8 MB 1.6 MB/s eta 0:00:04\n",
      "     ---------------------- ----------------- 7.3/12.8 MB 1.6 MB/s eta 0:00:04\n",
      "     ----------------------- ---------------- 7.4/12.8 MB 1.6 MB/s eta 0:00:04\n",
      "     ----------------------- ---------------- 7.4/12.8 MB 1.6 MB/s eta 0:00:04\n",
      "     ----------------------- ---------------- 7.5/12.8 MB 1.6 MB/s eta 0:00:04\n",
      "     ----------------------- ---------------- 7.6/12.8 MB 1.6 MB/s eta 0:00:04\n",
      "     ------------------------ --------------- 7.7/12.8 MB 1.7 MB/s eta 0:00:04\n",
      "     ------------------------ --------------- 7.8/12.8 MB 1.7 MB/s eta 0:00:03\n",
      "     ------------------------ --------------- 7.8/12.8 MB 1.7 MB/s eta 0:00:03\n",
      "     ------------------------ --------------- 7.8/12.8 MB 1.7 MB/s eta 0:00:03\n",
      "     ------------------------ --------------- 7.8/12.8 MB 1.7 MB/s eta 0:00:03\n",
      "     ------------------------ --------------- 7.8/12.8 MB 1.7 MB/s eta 0:00:03\n",
      "     ------------------------ --------------- 7.8/12.8 MB 1.7 MB/s eta 0:00:03\n",
      "     ------------------------ --------------- 7.8/12.8 MB 1.7 MB/s eta 0:00:03\n",
      "     ------------------------ --------------- 7.8/12.8 MB 1.7 MB/s eta 0:00:03\n",
      "     ------------------------ --------------- 7.9/12.8 MB 1.6 MB/s eta 0:00:04\n",
      "     ------------------------ --------------- 8.0/12.8 MB 1.6 MB/s eta 0:00:04\n",
      "     ------------------------ --------------- 8.0/12.8 MB 1.5 MB/s eta 0:00:04\n",
      "     ------------------------- -------------- 8.0/12.8 MB 1.5 MB/s eta 0:00:04\n",
      "     ------------------------- -------------- 8.1/12.8 MB 1.5 MB/s eta 0:00:04\n",
      "     ------------------------- -------------- 8.2/12.8 MB 1.5 MB/s eta 0:00:04\n",
      "     ------------------------- -------------- 8.2/12.8 MB 1.5 MB/s eta 0:00:03\n",
      "     ------------------------- -------------- 8.3/12.8 MB 1.5 MB/s eta 0:00:03\n",
      "     -------------------------- ------------- 8.4/12.8 MB 1.5 MB/s eta 0:00:03\n",
      "     -------------------------- ------------- 8.5/12.8 MB 1.5 MB/s eta 0:00:03\n",
      "     -------------------------- ------------- 8.5/12.8 MB 1.5 MB/s eta 0:00:03\n",
      "     -------------------------- ------------- 8.5/12.8 MB 1.5 MB/s eta 0:00:03\n",
      "     -------------------------- ------------- 8.6/12.8 MB 1.5 MB/s eta 0:00:03\n",
      "     -------------------------- ------------- 8.6/12.8 MB 1.5 MB/s eta 0:00:03\n",
      "     --------------------------- ------------ 8.6/12.8 MB 1.5 MB/s eta 0:00:03\n",
      "     --------------------------- ------------ 8.7/12.8 MB 1.5 MB/s eta 0:00:03\n",
      "     --------------------------- ------------ 8.8/12.8 MB 1.5 MB/s eta 0:00:03\n",
      "     --------------------------- ------------ 8.8/12.8 MB 1.5 MB/s eta 0:00:03\n",
      "     --------------------------- ------------ 8.9/12.8 MB 1.5 MB/s eta 0:00:03\n",
      "     --------------------------- ------------ 9.0/12.8 MB 1.5 MB/s eta 0:00:03\n",
      "     ---------------------------- ----------- 9.0/12.8 MB 1.5 MB/s eta 0:00:03\n",
      "     ---------------------------- ----------- 9.1/12.8 MB 1.5 MB/s eta 0:00:03\n",
      "     ---------------------------- ----------- 9.2/12.8 MB 1.5 MB/s eta 0:00:03\n",
      "     ---------------------------- ----------- 9.2/12.8 MB 1.5 MB/s eta 0:00:03\n",
      "     ----------------------------- ---------- 9.3/12.8 MB 1.5 MB/s eta 0:00:03\n",
      "     ----------------------------- ---------- 9.4/12.8 MB 1.5 MB/s eta 0:00:03\n",
      "     ----------------------------- ---------- 9.5/12.8 MB 1.5 MB/s eta 0:00:03\n",
      "     ----------------------------- ---------- 9.5/12.8 MB 1.5 MB/s eta 0:00:03\n",
      "     ------------------------------ --------- 9.6/12.8 MB 1.5 MB/s eta 0:00:03\n",
      "     ------------------------------ --------- 9.7/12.8 MB 1.5 MB/s eta 0:00:03\n",
      "     ------------------------------ --------- 9.7/12.8 MB 1.5 MB/s eta 0:00:03\n",
      "     ------------------------------ --------- 9.7/12.8 MB 1.5 MB/s eta 0:00:03\n",
      "     ------------------------------ --------- 9.7/12.8 MB 1.5 MB/s eta 0:00:03\n",
      "     ------------------------------ --------- 9.8/12.8 MB 1.5 MB/s eta 0:00:03\n",
      "     ------------------------------ --------- 9.8/12.8 MB 1.5 MB/s eta 0:00:03\n",
      "     ------------------------------ --------- 9.9/12.8 MB 1.5 MB/s eta 0:00:02\n",
      "     ------------------------------- -------- 9.9/12.8 MB 1.5 MB/s eta 0:00:02\n",
      "     ------------------------------- -------- 10.0/12.8 MB 1.5 MB/s eta 0:00:02\n",
      "     ------------------------------- -------- 10.1/12.8 MB 1.5 MB/s eta 0:00:02\n",
      "     ------------------------------- -------- 10.1/12.8 MB 1.5 MB/s eta 0:00:02\n",
      "     ------------------------------- -------- 10.2/12.8 MB 1.5 MB/s eta 0:00:02\n",
      "     -------------------------------- ------- 10.3/12.8 MB 1.5 MB/s eta 0:00:02\n",
      "     -------------------------------- ------- 10.3/12.8 MB 1.5 MB/s eta 0:00:02\n",
      "     -------------------------------- ------- 10.4/12.8 MB 1.5 MB/s eta 0:00:02\n",
      "     -------------------------------- ------- 10.5/12.8 MB 1.5 MB/s eta 0:00:02\n",
      "     -------------------------------- ------- 10.5/12.8 MB 1.5 MB/s eta 0:00:02\n",
      "     --------------------------------- ------ 10.6/12.8 MB 1.5 MB/s eta 0:00:02\n",
      "     --------------------------------- ------ 10.7/12.8 MB 1.5 MB/s eta 0:00:02\n",
      "     --------------------------------- ------ 10.7/12.8 MB 1.5 MB/s eta 0:00:02\n",
      "     --------------------------------- ------ 10.8/12.8 MB 1.5 MB/s eta 0:00:02\n",
      "     ---------------------------------- ----- 10.9/12.8 MB 1.5 MB/s eta 0:00:02\n",
      "     ---------------------------------- ----- 10.9/12.8 MB 1.5 MB/s eta 0:00:02\n",
      "     ---------------------------------- ----- 10.9/12.8 MB 1.5 MB/s eta 0:00:02\n",
      "     ---------------------------------- ----- 10.9/12.8 MB 1.5 MB/s eta 0:00:02\n",
      "     ---------------------------------- ----- 11.0/12.8 MB 1.5 MB/s eta 0:00:02\n",
      "     ---------------------------------- ----- 11.1/12.8 MB 1.5 MB/s eta 0:00:02\n",
      "     ---------------------------------- ----- 11.2/12.8 MB 1.5 MB/s eta 0:00:02\n",
      "     ---------------------------------- ----- 11.2/12.8 MB 1.5 MB/s eta 0:00:02\n",
      "     ----------------------------------- ---- 11.3/12.8 MB 1.5 MB/s eta 0:00:02\n",
      "     ----------------------------------- ---- 11.3/12.8 MB 1.5 MB/s eta 0:00:02\n",
      "     ----------------------------------- ---- 11.4/12.8 MB 1.5 MB/s eta 0:00:01\n",
      "     ----------------------------------- ---- 11.5/12.8 MB 1.5 MB/s eta 0:00:01\n",
      "     ------------------------------------ --- 11.5/12.8 MB 1.5 MB/s eta 0:00:01\n",
      "     ------------------------------------ --- 11.6/12.8 MB 1.5 MB/s eta 0:00:01\n",
      "     ------------------------------------ --- 11.7/12.8 MB 1.5 MB/s eta 0:00:01\n",
      "     ------------------------------------ --- 11.8/12.8 MB 1.5 MB/s eta 0:00:01\n",
      "     ------------------------------------ --- 11.8/12.8 MB 1.5 MB/s eta 0:00:01\n",
      "     ------------------------------------- -- 11.9/12.8 MB 1.5 MB/s eta 0:00:01\n",
      "     ------------------------------------- -- 12.0/12.8 MB 1.5 MB/s eta 0:00:01\n",
      "     ------------------------------------- -- 12.1/12.8 MB 1.5 MB/s eta 0:00:01\n",
      "     -------------------------------------- - 12.2/12.8 MB 1.5 MB/s eta 0:00:01\n",
      "     -------------------------------------- - 12.2/12.8 MB 1.5 MB/s eta 0:00:01\n",
      "     -------------------------------------- - 12.3/12.8 MB 1.5 MB/s eta 0:00:01\n",
      "     -------------------------------------- - 12.4/12.8 MB 1.5 MB/s eta 0:00:01\n",
      "     ---------------------------------------  12.5/12.8 MB 1.5 MB/s eta 0:00:01\n",
      "     ---------------------------------------  12.6/12.8 MB 1.5 MB/s eta 0:00:01\n",
      "     ---------------------------------------  12.7/12.8 MB 1.5 MB/s eta 0:00:01\n",
      "     ---------------------------------------  12.8/12.8 MB 1.5 MB/s eta 0:00:01\n",
      "     ---------------------------------------- 12.8/12.8 MB 1.5 MB/s eta 0:00:00\n",
      "Requirement already satisfied: spacy<3.8.0,>=3.7.2 in c:\\users\\ohene\\anaconda3\\envs\\iod\\lib\\site-packages (from en-core-web-sm==3.7.1) (3.7.6)\n",
      "Requirement already satisfied: murmurhash<1.1.0,>=0.28.0 in c:\\users\\ohene\\anaconda3\\envs\\iod\\lib\\site-packages (from spacy<3.8.0,>=3.7.2->en-core-web-sm==3.7.1) (1.0.10)\n",
      "Requirement already satisfied: pydantic!=1.8,!=1.8.1,<3.0.0,>=1.7.4 in c:\\users\\ohene\\anaconda3\\envs\\iod\\lib\\site-packages (from spacy<3.8.0,>=3.7.2->en-core-web-sm==3.7.1) (2.9.0)\n",
      "Requirement already satisfied: cymem<2.1.0,>=2.0.2 in c:\\users\\ohene\\anaconda3\\envs\\iod\\lib\\site-packages (from spacy<3.8.0,>=3.7.2->en-core-web-sm==3.7.1) (2.0.8)\n",
      "Requirement already satisfied: thinc<8.3.0,>=8.2.2 in c:\\users\\ohene\\anaconda3\\envs\\iod\\lib\\site-packages (from spacy<3.8.0,>=3.7.2->en-core-web-sm==3.7.1) (8.2.5)\n",
      "Requirement already satisfied: preshed<3.1.0,>=3.0.2 in c:\\users\\ohene\\anaconda3\\envs\\iod\\lib\\site-packages (from spacy<3.8.0,>=3.7.2->en-core-web-sm==3.7.1) (3.0.9)\n",
      "Requirement already satisfied: jinja2 in c:\\users\\ohene\\anaconda3\\envs\\iod\\lib\\site-packages (from spacy<3.8.0,>=3.7.2->en-core-web-sm==3.7.1) (3.1.2)\n",
      "Requirement already satisfied: numpy>=1.19.0 in c:\\users\\ohene\\anaconda3\\envs\\iod\\lib\\site-packages (from spacy<3.8.0,>=3.7.2->en-core-web-sm==3.7.1) (1.24.3)\n",
      "Requirement already satisfied: wasabi<1.2.0,>=0.9.1 in c:\\users\\ohene\\anaconda3\\envs\\iod\\lib\\site-packages (from spacy<3.8.0,>=3.7.2->en-core-web-sm==3.7.1) (1.1.3)\n",
      "Requirement already satisfied: packaging>=20.0 in c:\\users\\ohene\\anaconda3\\envs\\iod\\lib\\site-packages (from spacy<3.8.0,>=3.7.2->en-core-web-sm==3.7.1) (23.0)\n",
      "Requirement already satisfied: catalogue<2.1.0,>=2.0.6 in c:\\users\\ohene\\anaconda3\\envs\\iod\\lib\\site-packages (from spacy<3.8.0,>=3.7.2->en-core-web-sm==3.7.1) (2.0.10)\n",
      "Requirement already satisfied: tqdm<5.0.0,>=4.38.0 in c:\\users\\ohene\\anaconda3\\envs\\iod\\lib\\site-packages (from spacy<3.8.0,>=3.7.2->en-core-web-sm==3.7.1) (4.66.4)\n",
      "Requirement already satisfied: typer<1.0.0,>=0.3.0 in c:\\users\\ohene\\anaconda3\\envs\\iod\\lib\\site-packages (from spacy<3.8.0,>=3.7.2->en-core-web-sm==3.7.1) (0.12.5)\n",
      "Requirement already satisfied: spacy-loggers<2.0.0,>=1.0.0 in c:\\users\\ohene\\anaconda3\\envs\\iod\\lib\\site-packages (from spacy<3.8.0,>=3.7.2->en-core-web-sm==3.7.1) (1.0.5)\n",
      "Requirement already satisfied: setuptools in c:\\users\\ohene\\anaconda3\\envs\\iod\\lib\\site-packages (from spacy<3.8.0,>=3.7.2->en-core-web-sm==3.7.1) (67.8.0)\n",
      "Requirement already satisfied: spacy-legacy<3.1.0,>=3.0.11 in c:\\users\\ohene\\anaconda3\\envs\\iod\\lib\\site-packages (from spacy<3.8.0,>=3.7.2->en-core-web-sm==3.7.1) (3.0.12)\n",
      "Requirement already satisfied: requests<3.0.0,>=2.13.0 in c:\\users\\ohene\\anaconda3\\envs\\iod\\lib\\site-packages (from spacy<3.8.0,>=3.7.2->en-core-web-sm==3.7.1) (2.29.0)\n",
      "Requirement already satisfied: srsly<3.0.0,>=2.4.3 in c:\\users\\ohene\\anaconda3\\envs\\iod\\lib\\site-packages (from spacy<3.8.0,>=3.7.2->en-core-web-sm==3.7.1) (2.4.8)\n",
      "Requirement already satisfied: langcodes<4.0.0,>=3.2.0 in c:\\users\\ohene\\anaconda3\\envs\\iod\\lib\\site-packages (from spacy<3.8.0,>=3.7.2->en-core-web-sm==3.7.1) (3.4.0)\n",
      "Requirement already satisfied: weasel<0.5.0,>=0.1.0 in c:\\users\\ohene\\anaconda3\\envs\\iod\\lib\\site-packages (from spacy<3.8.0,>=3.7.2->en-core-web-sm==3.7.1) (0.4.1)\n",
      "Requirement already satisfied: language-data>=1.2 in c:\\users\\ohene\\anaconda3\\envs\\iod\\lib\\site-packages (from langcodes<4.0.0,>=3.2.0->spacy<3.8.0,>=3.7.2->en-core-web-sm==3.7.1) (1.2.0)\n",
      "Requirement already satisfied: typing-extensions>=4.6.1 in c:\\users\\ohene\\anaconda3\\envs\\iod\\lib\\site-packages (from pydantic!=1.8,!=1.8.1,<3.0.0,>=1.7.4->spacy<3.8.0,>=3.7.2->en-core-web-sm==3.7.1) (4.12.2)\n",
      "Requirement already satisfied: tzdata in c:\\users\\ohene\\anaconda3\\envs\\iod\\lib\\site-packages (from pydantic!=1.8,!=1.8.1,<3.0.0,>=1.7.4->spacy<3.8.0,>=3.7.2->en-core-web-sm==3.7.1) (2024.1)\n",
      "Requirement already satisfied: annotated-types>=0.4.0 in c:\\users\\ohene\\anaconda3\\envs\\iod\\lib\\site-packages (from pydantic!=1.8,!=1.8.1,<3.0.0,>=1.7.4->spacy<3.8.0,>=3.7.2->en-core-web-sm==3.7.1) (0.7.0)\n",
      "Requirement already satisfied: pydantic-core==2.23.2 in c:\\users\\ohene\\anaconda3\\envs\\iod\\lib\\site-packages (from pydantic!=1.8,!=1.8.1,<3.0.0,>=1.7.4->spacy<3.8.0,>=3.7.2->en-core-web-sm==3.7.1) (2.23.2)\n",
      "Requirement already satisfied: charset-normalizer<4,>=2 in c:\\users\\ohene\\anaconda3\\envs\\iod\\lib\\site-packages (from requests<3.0.0,>=2.13.0->spacy<3.8.0,>=3.7.2->en-core-web-sm==3.7.1) (2.0.4)\n",
      "Requirement already satisfied: idna<4,>=2.5 in c:\\users\\ohene\\anaconda3\\envs\\iod\\lib\\site-packages (from requests<3.0.0,>=2.13.0->spacy<3.8.0,>=3.7.2->en-core-web-sm==3.7.1) (3.4)\n",
      "Requirement already satisfied: urllib3<1.27,>=1.21.1 in c:\\users\\ohene\\anaconda3\\envs\\iod\\lib\\site-packages (from requests<3.0.0,>=2.13.0->spacy<3.8.0,>=3.7.2->en-core-web-sm==3.7.1) (1.26.15)\n",
      "Requirement already satisfied: certifi>=2017.4.17 in c:\\users\\ohene\\anaconda3\\envs\\iod\\lib\\site-packages (from requests<3.0.0,>=2.13.0->spacy<3.8.0,>=3.7.2->en-core-web-sm==3.7.1) (2024.6.2)\n",
      "Requirement already satisfied: blis<0.8.0,>=0.7.8 in c:\\users\\ohene\\anaconda3\\envs\\iod\\lib\\site-packages (from thinc<8.3.0,>=8.2.2->spacy<3.8.0,>=3.7.2->en-core-web-sm==3.7.1) (0.7.11)\n",
      "Requirement already satisfied: confection<1.0.0,>=0.0.1 in c:\\users\\ohene\\anaconda3\\envs\\iod\\lib\\site-packages (from thinc<8.3.0,>=8.2.2->spacy<3.8.0,>=3.7.2->en-core-web-sm==3.7.1) (0.1.5)\n",
      "Requirement already satisfied: colorama in c:\\users\\ohene\\anaconda3\\envs\\iod\\lib\\site-packages (from tqdm<5.0.0,>=4.38.0->spacy<3.8.0,>=3.7.2->en-core-web-sm==3.7.1) (0.4.6)\n",
      "Requirement already satisfied: click>=8.0.0 in c:\\users\\ohene\\anaconda3\\envs\\iod\\lib\\site-packages (from typer<1.0.0,>=0.3.0->spacy<3.8.0,>=3.7.2->en-core-web-sm==3.7.1) (8.1.7)\n",
      "Requirement already satisfied: shellingham>=1.3.0 in c:\\users\\ohene\\anaconda3\\envs\\iod\\lib\\site-packages (from typer<1.0.0,>=0.3.0->spacy<3.8.0,>=3.7.2->en-core-web-sm==3.7.1) (1.5.4)\n",
      "Requirement already satisfied: rich>=10.11.0 in c:\\users\\ohene\\anaconda3\\envs\\iod\\lib\\site-packages (from typer<1.0.0,>=0.3.0->spacy<3.8.0,>=3.7.2->en-core-web-sm==3.7.1) (13.8.0)\n",
      "Requirement already satisfied: smart-open<8.0.0,>=5.2.1 in c:\\users\\ohene\\anaconda3\\envs\\iod\\lib\\site-packages (from weasel<0.5.0,>=0.1.0->spacy<3.8.0,>=3.7.2->en-core-web-sm==3.7.1) (7.0.4)\n",
      "Requirement already satisfied: cloudpathlib<1.0.0,>=0.7.0 in c:\\users\\ohene\\anaconda3\\envs\\iod\\lib\\site-packages (from weasel<0.5.0,>=0.1.0->spacy<3.8.0,>=3.7.2->en-core-web-sm==3.7.1) (0.19.0)\n",
      "Requirement already satisfied: MarkupSafe>=2.0 in c:\\users\\ohene\\anaconda3\\envs\\iod\\lib\\site-packages (from jinja2->spacy<3.8.0,>=3.7.2->en-core-web-sm==3.7.1) (2.1.1)\n",
      "Requirement already satisfied: marisa-trie>=0.7.7 in c:\\users\\ohene\\anaconda3\\envs\\iod\\lib\\site-packages (from language-data>=1.2->langcodes<4.0.0,>=3.2.0->spacy<3.8.0,>=3.7.2->en-core-web-sm==3.7.1) (1.2.0)\n",
      "Requirement already satisfied: markdown-it-py>=2.2.0 in c:\\users\\ohene\\anaconda3\\envs\\iod\\lib\\site-packages (from rich>=10.11.0->typer<1.0.0,>=0.3.0->spacy<3.8.0,>=3.7.2->en-core-web-sm==3.7.1) (3.0.0)\n",
      "Requirement already satisfied: pygments<3.0.0,>=2.13.0 in c:\\users\\ohene\\anaconda3\\envs\\iod\\lib\\site-packages (from rich>=10.11.0->typer<1.0.0,>=0.3.0->spacy<3.8.0,>=3.7.2->en-core-web-sm==3.7.1) (2.15.1)\n",
      "Requirement already satisfied: wrapt in c:\\users\\ohene\\anaconda3\\envs\\iod\\lib\\site-packages (from smart-open<8.0.0,>=5.2.1->weasel<0.5.0,>=0.1.0->spacy<3.8.0,>=3.7.2->en-core-web-sm==3.7.1) (1.16.0)\n",
      "Requirement already satisfied: mdurl~=0.1 in c:\\users\\ohene\\anaconda3\\envs\\iod\\lib\\site-packages (from markdown-it-py>=2.2.0->rich>=10.11.0->typer<1.0.0,>=0.3.0->spacy<3.8.0,>=3.7.2->en-core-web-sm==3.7.1) (0.1.2)\n",
      "\u001b[38;5;2m[+] Download and installation successful\u001b[0m\n",
      "You can now load the package via spacy.load('en_core_web_sm')\n"
     ]
    }
   ],
   "source": [
    "# load spaCy and the English model\n",
    "!python -m spacy download en_core_web_sm\n",
    "nlp = spacy.load('en_core_web_sm')\n",
    "\n",
    "# process the text\n",
    "doc = nlp(text)"
   ]
  },
  {
   "cell_type": "markdown",
   "metadata": {
    "id": "z8--KeYzLNPW"
   },
   "source": [
    "## Tokenise"
   ]
  },
  {
   "cell_type": "code",
   "execution_count": 35,
   "metadata": {
    "ExecuteTime": {
     "end_time": "2019-06-17T01:18:58.447329Z",
     "start_time": "2019-06-17T01:18:58.401479Z"
    },
    "id": "-7lVWo5DLNPe",
    "outputId": "b679dc9c-f19f-4ad2-fdbd-9b6755c17bae"
   },
   "outputs": [
    {
     "name": "stdout",
     "output_type": "stream",
     "text": [
      " 1| 'USS'\n",
      " 2| 'Enterprise'\n",
      " 3| '('\n",
      " 4| 'NCC-1701'\n",
      " 5| '-'\n",
      " 6| 'D'\n",
      " 7| ')'\n",
      " 8| '\\n\\n'\n",
      " 9| '\"'\n",
      "10| 'For'\n",
      "11| 'five'\n",
      "12| 'hundred'\n",
      "13| 'years'\n",
      "14| ','\n",
      "15| 'every'\n",
      "16| 'ship'\n",
      "17| 'that'\n",
      "18| 'has'\n",
      "19| 'borne'\n",
      "20| 'the'\n",
      "21| 'name'\n",
      "22| 'of'\n",
      "23| 'the'\n",
      "24| 'Enterprise'\n",
      "25| 'has'\n",
      "26| 'become'\n",
      "27| 'a'\n",
      "28| 'legend'\n",
      "29| '.'\n"
     ]
    }
   ],
   "source": [
    "# only show the results\n",
    "# spaCy has done it already\n",
    "for i, t in enumerate(doc):\n",
    "    print('%2d| %r' % (i+1, t.text))\n",
    "    if t.text == '.':\n",
    "        break"
   ]
  },
  {
   "cell_type": "code",
   "execution_count": 36,
   "metadata": {},
   "outputs": [
    {
     "data": {
      "image/png": "[encoded data removed]",
      "text/plain": [
       "<Figure size 1600x600 with 1 Axes>"
      ]
     },
     "metadata": {},
     "output_type": "display_data"
    }
   ],
   "source": [
    "plot_words(['%r' % t.text for t in doc])"
   ]
  },
  {
   "cell_type": "markdown",
   "metadata": {
    "id": "iAtMzEZTLNPj"
   },
   "source": [
    "### Stop Words"
   ]
  },
  {
   "cell_type": "code",
   "execution_count": 37,
   "metadata": {
    "ExecuteTime": {
     "end_time": "2019-06-17T01:24:08.828052Z",
     "start_time": "2019-06-17T01:24:08.777179Z"
    },
    "id": "zOzudmrILNPq",
    "outputId": "1e58fcfc-674d-42f1-e82a-63f7d61a837a"
   },
   "outputs": [
    {
     "name": "stdout",
     "output_type": "stream",
     "text": [
      "i | with stop words without\n",
      "--| --------------- ------------\n",
      " 1| 'USS'           'USS'\n",
      " 2| 'Enterprise'    'Enterprise'\n",
      " 3| '('             '('\n",
      " 4| 'NCC-1701'      'NCC-1701'\n",
      " 5| '-'             '-'\n",
      " 6| 'D'             'D'\n",
      " 7| ')'             ')'\n",
      " 8| '\\n\\n'          '\\n\\n'\n",
      " 9| '\"'             '\"'\n",
      "10| 'For'           ''\n",
      "11| 'five'          ''\n",
      "12| 'hundred'       ''\n",
      "13| 'years'         'years'\n",
      "14| ','             ','\n",
      "15| 'every'         ''\n",
      "16| 'ship'          'ship'\n",
      "17| 'that'          ''\n",
      "18| 'has'           ''\n",
      "19| 'borne'         'borne'\n",
      "20| 'the'           ''\n",
      "21| 'name'          ''\n",
      "22| 'of'            ''\n",
      "23| 'the'           ''\n",
      "24| 'Enterprise'    'Enterprise'\n",
      "25| 'has'           ''\n",
      "26| 'become'        ''\n",
      "27| 'a'             ''\n",
      "28| 'legend'        'legend'\n",
      "29| '.'             '.'\n"
     ]
    }
   ],
   "source": [
    "## spaCy\n",
    "print('i | with stop words without')\n",
    "print('--| --------------- ------------')\n",
    "\n",
    "# for all the tokens\n",
    "for i, t in enumerate(doc):\n",
    "    print('%2d| %-15r %r' % (i+1, t.text, ('' if t.is_stop else t.text)))\n",
    "\n",
    "    # break after the first sentence\n",
    "    if t.text == '.':\n",
    "        break"
   ]
  },
  {
   "cell_type": "code",
   "execution_count": 38,
   "metadata": {
    "ExecuteTime": {
     "end_time": "2019-06-17T01:22:05.293365Z",
     "start_time": "2019-06-17T01:22:04.981199Z"
    },
    "id": "B2LoqLmULNPs",
    "outputId": "63f83744-f889-462f-f166-d8add6a03f7e"
   },
   "outputs": [
    {
     "data": {
      "image/png": "[encoded data removed]",
      "text/plain": [
       "<Figure size 1600x600 with 1 Axes>"
      ]
     },
     "metadata": {},
     "output_type": "display_data"
    }
   ],
   "source": [
    "plot_words(['%r' % t.text for t in doc if not (t.is_stop | t.is_punct)])"
   ]
  },
  {
   "cell_type": "markdown",
   "metadata": {
    "id": "9uqME12uLNPu"
   },
   "source": [
    "### Check Part of Speech"
   ]
  },
  {
   "cell_type": "code",
   "execution_count": 39,
   "metadata": {
    "ExecuteTime": {
     "end_time": "2019-06-17T01:22:17.213316Z",
     "start_time": "2019-06-17T01:22:17.169434Z"
    },
    "id": "vD-BrcLALNPz",
    "outputId": "a26b4e4f-095a-4086-a8fe-841cbbfb5b05"
   },
   "outputs": [
    {
     "name": "stdout",
     "output_type": "stream",
     "text": [
      " 1|'USS'        : PROPN NNP\n",
      " 2|'Enterprise' : PROPN NNP\n",
      " 3|'('          : PUNCT -LRB-\n",
      " 4|'NCC-1701'   : PROPN NNP\n",
      " 5|'-'          : PUNCT HYPH\n",
      " 6|'D'          : PROPN NNP\n",
      " 7|')'          : PUNCT -RRB-\n",
      " 8|'\\n\\n'       : SPACE _SP\n",
      " 9|'\"'          : PUNCT ``\n",
      "10|'For'        : ADP   IN\n",
      "11|'five'       : NUM   CD\n",
      "12|'hundred'    : NUM   CD\n",
      "13|'years'      : NOUN  NNS\n",
      "14|','          : PUNCT ,\n",
      "15|'every'      : DET   DT\n",
      "16|'ship'       : NOUN  NN\n",
      "17|'that'       : PRON  WDT\n",
      "18|'has'        : AUX   VBZ\n",
      "19|'borne'      : VERB  VBN\n",
      "20|'the'        : DET   DT\n",
      "21|'name'       : NOUN  NN\n",
      "22|'of'         : ADP   IN\n",
      "23|'the'        : DET   DT\n",
      "24|'Enterprise' : PROPN NNP\n",
      "25|'has'        : AUX   VBZ\n",
      "26|'become'     : VERB  VBN\n",
      "27|'a'          : DET   DT\n",
      "28|'legend'     : NOUN  NN\n",
      "29|'.'          : PUNCT .\n"
     ]
    }
   ],
   "source": [
    "## spaCy\n",
    "for i, t in enumerate(doc):\n",
    "    print('%2d|%-12r : %-5s %s' % (i+1, t.text, t.pos_, t.tag_))\n",
    "    if t.text == '.':\n",
    "        break"
   ]
  },
  {
   "cell_type": "markdown",
   "metadata": {
    "id": "IvQ_UG7fUH3P"
   },
   "source": [
    "### Lemmatisation"
   ]
  },
  {
   "cell_type": "code",
   "execution_count": 40,
   "metadata": {
    "ExecuteTime": {
     "end_time": "2019-06-17T01:22:53.270758Z",
     "start_time": "2019-06-17T01:22:53.220888Z"
    },
    "id": "448zp9_vLNQC",
    "outputId": "561168c1-3a42-449d-9be3-dd22182459c3"
   },
   "outputs": [
    {
     "name": "stdout",
     "output_type": "stream",
     "text": [
      "i | Token        Lemma\n",
      "--| ------------ ------------\n",
      " 1| 'USS'        'USS'\n",
      " 2| 'Enterprise' 'Enterprise'\n",
      " 3| '('          '('\n",
      " 4| 'NCC-1701'   'NCC-1701'\n",
      " 5| '-'          '-'\n",
      " 6| 'D'          'D'\n",
      " 7| ')'          ')'\n",
      " 8| '\\n\\n'       '\\n\\n'\n",
      " 9| '\"'          '\"'\n",
      "10| 'For'        'for'\n",
      "11| 'five'       'five'\n",
      "12| 'hundred'    'hundred'\n",
      "13| 'years'      'year'\n",
      "14| ','          ','\n",
      "15| 'every'      'every'\n",
      "16| 'ship'       'ship'\n",
      "17| 'that'       'that'\n",
      "18| 'has'        'have'\n",
      "19| 'borne'      'bear'\n",
      "20| 'the'        'the'\n",
      "21| 'name'       'name'\n",
      "22| 'of'         'of'\n",
      "23| 'the'        'the'\n",
      "24| 'Enterprise' 'Enterprise'\n",
      "25| 'has'        'have'\n",
      "26| 'become'     'become'\n",
      "27| 'a'          'a'\n",
      "28| 'legend'     'legend'\n",
      "29| '.'          '.'\n"
     ]
    }
   ],
   "source": [
    "## spaCy\n",
    "print('i | Token        Lemma')\n",
    "print('--| ------------ ------------')\n",
    "for i, t in enumerate(doc):\n",
    "    print('%2d| %-12r %r' % (i+1, t.text, t.lemma_))\n",
    "    if t.text == '.':\n",
    "        break"
   ]
  },
  {
   "cell_type": "code",
   "execution_count": 41,
   "metadata": {
    "ExecuteTime": {
     "end_time": "2019-06-17T01:22:56.143434Z",
     "start_time": "2019-06-17T01:22:55.839376Z"
    },
    "id": "i-7pqVMxLNQD",
    "outputId": "6deff35e-0d28-4351-bbab-7600618eb817"
   },
   "outputs": [
    {
     "data": {
      "image/png": "[encoded data removed]",
      "text/plain": [
       "<Figure size 1600x600 with 1 Axes>"
      ]
     },
     "metadata": {},
     "output_type": "display_data"
    }
   ],
   "source": [
    "plot_words(['%r' % t.lemma_ for t in doc if not (t.is_stop | t.is_punct)])"
   ]
  },
  {
   "cell_type": "markdown",
   "metadata": {
    "id": "RHUdgHM7LNQF"
   },
   "source": [
    "### Entity Recognition"
   ]
  },
  {
   "cell_type": "code",
   "execution_count": 42,
   "metadata": {
    "ExecuteTime": {
     "end_time": "2019-06-17T01:23:02.688863Z",
     "start_time": "2019-06-17T01:23:02.464460Z"
    },
    "id": "yyOrZ42oLNQH",
    "outputId": "dfcee498-0002-4064-98ca-fa11668978d5",
    "scrolled": false
   },
   "outputs": [
    {
     "name": "stdout",
     "output_type": "stream",
     "text": [
      " 0: USS Enterprise (NCC-1701-D)\"For five hundred years, every ship that has borne the name of the Enterprise has become a legend.\n",
      "--------------------------------------------------------------------------------\n",
      "DATE       : five hundred years\n",
      "ORG        : Enterprise\n",
      "================================================================================\n",
      " 1: This one is no different.\n",
      "================================================================================\n",
      " 2: \"The USS Enterprise (NCC-1701-D) was a 24th century United Federation of Planets Galaxy Class starship operated by Starfleet, and the fifth Federation ship to bear the name Enterprise.\n",
      "--------------------------------------------------------------------------------\n",
      "PRODUCT    : The USS Enterprise\n",
      "DATE       : a 24th century\n",
      "ORG        : United Federation of Planets Galaxy\n",
      "ORG        : Starfleet\n",
      "ORDINAL    : fifth\n",
      "================================================================================\n",
      " 3: During her career, the Enterprise served as the Federation flagship.\n",
      "--------------------------------------------------------------------------------\n",
      "ORG        : Enterprise\n",
      "ORG        : Federation\n",
      "================================================================================\n",
      " 4: The Enterprise was destroyed during the Battle of Veridian III in 2371.\n",
      "--------------------------------------------------------------------------------\n",
      "DATE       : 2371\n",
      "================================================================================\n",
      " 5: ==History=====Construction and launch===The Enterprise was built at Utopia Planitia Fleet Yards orbiting Mars in the Solar system.\n",
      "--------------------------------------------------------------------------------\n",
      "ORG        : Utopia Planitia Fleet Yards\n",
      "LOC        : Mars\n",
      "PRODUCT    : Solar\n",
      "================================================================================\n",
      " 6: The construction was a massive undertaking, involving thousands of people across disciplines.\n",
      "--------------------------------------------------------------------------------\n",
      "CARDINAL   : thousands\n",
      "================================================================================\n",
      " 7: Construction was supervised by Commander Orfil Quinteros.\n",
      "--------------------------------------------------------------------------------\n",
      "PERSON     : Orfil Quinteros\n",
      "================================================================================\n",
      " 8: Dr. Leah Brahms was responsible for much of the Enterprise's warp propulsion system design.\n",
      "--------------------------------------------------------------------------------\n",
      "PERSON     : Leah Brahms\n",
      "================================================================================\n",
      " 9: Some of the Enterprise's components were derived from technology originally developed on the USS Pegasus.\n",
      "--------------------------------------------------------------------------------\n",
      "PRODUCT    : the USS Pegasus\n",
      "================================================================================\n",
      "10: One of the ship's nacelle tube was the site of a multiple murder-suicide while she was still under construction at Utopia Planitia.\n",
      "--------------------------------------------------------------------------------\n",
      "CARDINAL   : One\n",
      "FAC        : Utopia Planitia\n",
      "================================================================================\n",
      "11: A member of the construction team, Walter Pierce, became jealous of a former lover's new relationship.\n",
      "--------------------------------------------------------------------------------\n",
      "PERSON     : Walter Pierce\n",
      "ORG        : lover\n",
      "================================================================================\n",
      "12: He killed the two officers, Marla Finn and William Hodges, then disposed of their bodies in the plasma stream.\n",
      "--------------------------------------------------------------------------------\n",
      "CARDINAL   : two\n",
      "PERSON     : Marla Finn\n",
      "PERSON     : William Hodges\n",
      "================================================================================\n",
      "13: Pierce committed suicide in the same manner, leaving a telepathic imprint in a bulkhead that was not discovered until 2370.\n",
      "--------------------------------------------------------------------------------\n",
      "DATE       : 2370\n",
      "================================================================================\n",
      "14: On stardate 40759.5, in the year 2363, the Enterprise was launched from Mars.\n",
      "--------------------------------------------------------------------------------\n",
      "CARDINAL   : 40759.5\n",
      "DATE       : the year 2363\n",
      "ORG        : Enterprise\n",
      "LOC        : Mars\n",
      "================================================================================\n",
      "15: On stardate 41025.5, the Enterprise was commissioned.\n",
      "--------------------------------------------------------------------------------\n",
      "CARDINAL   : 41025.5\n",
      "ORG        : Enterprise\n",
      "================================================================================\n",
      "16: These stardates weren't mentioned in dialog; they were from the Enterprise dedication plaque.\n",
      "================================================================================\n",
      "17: Final systems completion and shakedown was conducted at Earth Station McKinley.\n",
      "--------------------------------------------------------------------------------\n",
      "LOC        : Earth Station\n",
      "================================================================================\n",
      "18: Captain Jean-Luc Picard took command of the ship on stardate 41148 at the order of Rear Admiral Norah Satie.===Legacy===Commander Riker was upset over the loss of the Enterprise.\n",
      "--------------------------------------------------------------------------------\n",
      "PERSON     : Jean-Luc Picard\n",
      "DATE       : 41148\n",
      "ORG        : Rear Admiral Norah Satie\n",
      "PERSON     : Legacy===\n",
      "PERSON     : Riker\n",
      "================================================================================\n",
      "19: Having hoped he would one day command the ship, he was disappointed that he never got that opportunity.\n",
      "--------------------------------------------------------------------------------\n",
      "CARDINAL   : one\n",
      "================================================================================\n",
      "20: However, Picard expressed doubt that the Enterprise-D would be the last vessel to carry the name.\n",
      "================================================================================\n",
      "21: The Enterprise was so dear to Worf that, shortly after being reassigned to Deep Space 9 in 2372, he briefly considered resigning from Starfleet.\n",
      "--------------------------------------------------------------------------------\n",
      "FAC        : Deep Space\n",
      "CARDINAL   : 9\n",
      "DATE       : 2372\n",
      "GPE        : Starfleet\n",
      "================================================================================\n",
      "22: Station commander Captain Benjamin Sisko expressed regret on the loss of the Enterprise and offered his condolences over the destruction of the ship to Worf, saying the Enterprise \"was a good ship.\n",
      "--------------------------------------------------------------------------------\n",
      "PERSON     : Benjamin Sisko\n",
      "ORG        : Enterprise\n",
      "PERSON     : Worf\n",
      "================================================================================\n",
      "23: \"Captain Picard's belief that the Enterprise-D would not be the final ship to bear the name was borne out with the christening of the Class Sovereign USS Enterprise NCC-1701-E, later the same year.\n",
      "--------------------------------------------------------------------------------\n",
      "DATE       : later the same year\n",
      "================================================================================\n",
      "24: In that instance, the legacy of the Enterprise continued with Picard reprising his role as CO and selecting most of the former crew from the Enterprise-D, with the notable exception of Worf due to his most recent assignment to DS9 (though he temporarily joined the Enterprise-E crew on several of their more notable missions).\n",
      "--------------------------------------------------------------------------------\n",
      "ORG        : Enterprise\n",
      "ORG        : CO\n",
      "================================================================================\n"
     ]
    }
   ],
   "source": [
    "## spaCy\n",
    "for i, s in enumerate(doc.sents):\n",
    "    print('%2d: %s' % (i, re.sub(r'\\n+', '', s.text)))\n",
    "    if s.as_doc().ents:\n",
    "        print('-'*80)\n",
    "        for e in s.as_doc().ents:\n",
    "            print('%-11s: %s' % (e.label_, re.sub(r'\\n+', '', e.text)))\n",
    "    print('='*80)"
   ]
  },
  {
   "cell_type": "markdown",
   "metadata": {
    "id": "YSNoDKpMUH3S"
   },
   "source": [
    "## Extra: Using NLTK for NLP\n",
    "\n",
    "### Tokenise"
   ]
  },
  {
   "cell_type": "code",
   "execution_count": 43,
   "metadata": {},
   "outputs": [
    {
     "name": "stderr",
     "output_type": "stream",
     "text": [
      "[nltk_data] Downloading package punkt_tab to\n",
      "[nltk_data]     C:\\Users\\ohene\\AppData\\Roaming\\nltk_data...\n"
     ]
    },
    {
     "name": "stdout",
     "output_type": "stream",
     "text": [
      " 1| 'USS'\n",
      " 2| 'Enterprise'\n",
      " 3| '('\n",
      " 4| 'NCC-1701-D'\n",
      " 5| ')'\n",
      " 6| \"''\"\n",
      " 7| 'For'\n",
      " 8| 'five'\n",
      " 9| 'hundred'\n",
      "10| 'years'\n",
      "11| ','\n",
      "12| 'every'\n",
      "13| 'ship'\n",
      "14| 'that'\n",
      "15| 'has'\n",
      "16| 'borne'\n",
      "17| 'the'\n",
      "18| 'name'\n",
      "19| 'of'\n",
      "20| 'the'\n",
      "21| 'Enterprise'\n",
      "22| 'has'\n",
      "23| 'become'\n",
      "24| 'a'\n",
      "25| 'legend'\n"
     ]
    },
    {
     "name": "stderr",
     "output_type": "stream",
     "text": [
      "[nltk_data]   Unzipping tokenizers\\punkt_tab.zip.\n"
     ]
    }
   ],
   "source": [
    "## Import Libraries\n",
    "%matplotlib inline\n",
    "import matplotlib.pyplot as plt\n",
    "from collections import Counter\n",
    "\n",
    "import regex as re\n",
    "import spacy\n",
    "import nltk\n",
    "# use nltk to find tokens\n",
    "nltk.download('punkt_tab')\n",
    "tokens = nltk.word_tokenize(text)\n",
    "\n",
    "for i, t in enumerate(tokens[:25]):\n",
    "    print('%2d| %r' % (i+1, t))"
   ]
  },
  {
   "cell_type": "code",
   "execution_count": 44,
   "metadata": {
    "ExecuteTime": {
     "end_time": "2019-06-17T01:18:48.978316Z",
     "start_time": "2019-06-17T01:18:48.686799Z"
    },
    "id": "G5C3ituYLNPZ",
    "outputId": "db39aade-f506-4b45-ed1e-56327c19e4f7"
   },
   "outputs": [
    {
     "data": {
      "image/png": "[encoded data removed]",
      "text/plain": [
       "<Figure size 1600x600 with 1 Axes>"
      ]
     },
     "metadata": {},
     "output_type": "display_data"
    }
   ],
   "source": [
    "plot_words(tokens)"
   ]
  },
  {
   "cell_type": "markdown",
   "metadata": {
    "id": "pUFtNsjhUH3T"
   },
   "source": [
    "### Stop words"
   ]
  },
  {
   "cell_type": "code",
   "execution_count": 46,
   "metadata": {},
   "outputs": [
    {
     "name": "stderr",
     "output_type": "stream",
     "text": [
      "[nltk_data] Downloading package stopwords to\n",
      "[nltk_data]     C:\\Users\\ohene\\AppData\\Roaming\\nltk_data...\n",
      "[nltk_data]   Unzipping corpora\\stopwords.zip.\n"
     ]
    },
    {
     "data": {
      "text/plain": [
       "True"
      ]
     },
     "execution_count": 46,
     "metadata": {},
     "output_type": "execute_result"
    }
   ],
   "source": [
    "nltk.download('stopwords')"
   ]
  },
  {
   "cell_type": "code",
   "execution_count": 47,
   "metadata": {
    "ExecuteTime": {
     "end_time": "2019-06-17T01:20:00.638483Z",
     "start_time": "2019-06-17T01:20:00.617539Z"
    },
    "id": "BnY2rFzuLNPj",
    "outputId": "f64087cd-8e4b-4df5-fb2d-7b04851bde34",
    "scrolled": true
   },
   "outputs": [
    {
     "name": "stdout",
     "output_type": "stream",
     "text": [
      "a, about, above, after, again, against, ain, all, am, an, and, any, are, aren, aren't, as, at, be, because, been, before, being, below, between, both, but, by, can, couldn, couldn't, d, did, didn, didn't, do, does, doesn, doesn't, doing, don, don't, down, during, each, few, for, from, further, had, hadn, hadn't, has, hasn, hasn't, have, haven, haven't, having, he, her, here, hers, herself, him, himself, his, how, i, if, in, into, is, isn, isn't, it, it's, its, itself, just, ll, m, ma, me, mightn, mightn't, more, most, mustn, mustn't, my, myself, needn, needn't, no, nor, not, now, o, of, off, on, once, only, or, other, our, ours, ourselves, out, over, own, re, s, same, shan, shan't, she, she's, should, should've, shouldn, shouldn't, so, some, such, t, than, that, that'll, the, their, theirs, them, themselves, then, there, these, they, this, those, through, to, too, under, until, up, ve, very, was, wasn, wasn't, we, were, weren, weren't, what, when, where, which, while, who, whom, why, will, with, won, won't, wouldn, wouldn't, y, you, you'd, you'll, you're, you've, your, yours, yourself, yourselves\n"
     ]
    }
   ],
   "source": [
    "stopWords = nltk.corpus.stopwords.words('english')\n",
    "\n",
    "stopWords.sort()\n",
    "print(', '.join(stopWords))"
   ]
  },
  {
   "cell_type": "code",
   "execution_count": 48,
   "metadata": {
    "id": "dksPJF7YcI1o"
   },
   "outputs": [],
   "source": [
    "# ANSWER\n",
    "# NOTE: see the `.lower()` method applied to token\n",
    "tokens_no_stop = '' # create a list of tokens withOUT the stop words"
   ]
  },
  {
   "cell_type": "code",
   "execution_count": 51,
   "metadata": {
    "ExecuteTime": {
     "end_time": "2019-06-17T01:21:23.469455Z",
     "start_time": "2019-06-17T01:21:23.412608Z"
    },
    "id": "a82KBILRLNPm",
    "outputId": "b33cef88-79ab-4e06-9c0e-9f2a4a588306",
    "scrolled": true
   },
   "outputs": [
    {
     "name": "stdout",
     "output_type": "stream",
     "text": [
      "i | with stop words       without stop words\n",
      "--|---------------------|--------------------\n",
      " 1| This                                     \n",
      " 2| is                                       \n",
      " 3| a                                        \n",
      " 4| sample               sample\n",
      " 5| text                 text\n",
      " 6| ,                    ,\n",
      " 7| which                                    \n",
      " 8| will                                     \n",
      " 9| be                                       \n",
      "10| used                 used\n",
      "11| to                                       \n",
      "12| test                 test\n",
      "13| stop                 stop\n",
      "14| word                 word\n",
      "15| removal              removal\n",
      "16| .                    .\n"
     ]
    },
    {
     "name": "stderr",
     "output_type": "stream",
     "text": [
      "[nltk_data] Downloading package punkt to\n",
      "[nltk_data]     C:\\Users\\ohene\\AppData\\Roaming\\nltk_data...\n",
      "[nltk_data]   Package punkt is already up-to-date!\n",
      "[nltk_data] Downloading package stopwords to\n",
      "[nltk_data]     C:\\Users\\ohene\\AppData\\Roaming\\nltk_data...\n",
      "[nltk_data]   Package stopwords is already up-to-date!\n"
     ]
    }
   ],
   "source": [
    "import nltk\n",
    "from nltk.corpus import stopwords\n",
    "from nltk.tokenize import word_tokenize\n",
    "\n",
    "# Example text\n",
    "text = \"This is a sample text, which will be used to test stop word removal.\"\n",
    "\n",
    "# Download necessary NLTK data\n",
    "nltk.download('punkt')\n",
    "nltk.download('stopwords')\n",
    "\n",
    "# Tokenize the text\n",
    "tokens = word_tokenize(text)\n",
    "\n",
    "# Remove stop words\n",
    "stop_words = set(stopwords.words('english'))\n",
    "tokens_no_stop = [word for word in tokens if word.lower() not in stop_words]\n",
    "\n",
    "# Print the tokens with and without stop words\n",
    "i, j = 0, 0\n",
    "\n",
    "print(\"i | with stop words       without stop words\")\n",
    "print(\"--|---------------------|--------------------\")\n",
    "\n",
    "# Loop through all tokens with and without stop words\n",
    "while i < len(tokens):\n",
    "    if j < len(tokens_no_stop) and tokens[i] == tokens_no_stop[j]:\n",
    "        print(f\"{i+1:2d}| {tokens[i]:<20} {tokens_no_stop[j]}\")\n",
    "        j += 1\n",
    "    else:\n",
    "        print(f\"{i+1:2d}| {tokens[i]:<20} {'':<20}\")\n",
    "    i += 1\n"
   ]
  },
  {
   "cell_type": "code",
   "execution_count": null,
   "metadata": {
    "ExecuteTime": {
     "end_time": "2019-06-17T01:24:39.503538Z",
     "start_time": "2019-06-17T01:24:39.498514Z"
    },
    "id": "uPtOoiwuLNPo"
   },
   "outputs": [],
   "source": [
    "# Create plot of words without stopword\n",
    "# ANSWER"
   ]
  },
  {
   "cell_type": "markdown",
   "metadata": {
    "id": "newokHfzUH3V"
   },
   "source": [
    "### Check Part of Speech"
   ]
  },
  {
   "cell_type": "code",
   "execution_count": null,
   "metadata": {
    "ExecuteTime": {
     "end_time": "2019-06-17T01:22:10.130223Z",
     "start_time": "2019-06-17T01:22:10.100306Z"
    },
    "id": "KRupju0sLNPv"
   },
   "outputs": [],
   "source": [
    "# define PoS\n",
    "pos_list = {\n",
    "    'CC':   'coordinating conjunction',\n",
    "    'CD':   'cardinal digit',\n",
    "    'DT':   'determiner',\n",
    "    'EX':   'existential there (like: \"there is\" ... think of it like \"there exists\")',\n",
    "    'FW':   'foreign word',\n",
    "    'IN':   'preposition/subordinating conjunction',\n",
    "    'JJ':   'adjective \"big\"',\n",
    "    'JJR':  'adjective, comparative \"bigger\"',\n",
    "    'JJS':  'adjective, superlative \"biggest\"',\n",
    "    'LS':   'list marker 1)',\n",
    "    'MD':   'modal could, will',\n",
    "    'NN':   'noun, singular \"desk\"',\n",
    "    'NNS':  'noun plural \"desks\"',\n",
    "    'NNP':  'proper noun, singular \"Harrison\"',\n",
    "    'NNPS': 'proper noun, plural \"Americans\"',\n",
    "    'PDT':  'predeterminer \"all the kids\"',\n",
    "    'POS':  'possessive ending parent\"s',\n",
    "    'PRP':  'personal pronoun I, he, she',\n",
    "    'PRP$': 'possessive pronoun my, his, hers',\n",
    "    'RB':   'adverb very, silently,',\n",
    "    'RBR':  'adverb, comparative better',\n",
    "    'RBS':  'adverb, superlative best',\n",
    "    'RP':   'particle give up',\n",
    "    'TO':   'to go \"to\" the store.',\n",
    "    'UH':   'interjection errrrrrrrm',\n",
    "    'VB':   'verb, base form take',\n",
    "    'VBD':  'verb, past tense took',\n",
    "    'VBG':  'verb, gerund/present participle taking',\n",
    "    'VBN':  'verb, past participle taken',\n",
    "    'VBP':  'verb, sing. present, non-3d take',\n",
    "    'VBZ':  'verb, 3rd person sing. present takes',\n",
    "    'WDT':  'wh-determiner which',\n",
    "    'WP':   'wh-pronoun who, what',\n",
    "    'WP$':  'possessive wh-pronoun whose',\n",
    "    'WRB':  'wh-abverb where, when',\n",
    "}"
   ]
  },
  {
   "cell_type": "code",
   "execution_count": null,
   "metadata": {
    "ExecuteTime": {
     "end_time": "2019-06-17T01:22:13.969590Z",
     "start_time": "2019-06-17T01:22:13.665232Z"
    },
    "id": "asqUoCHgLNPx",
    "outputId": "6e3cab17-f736-49f3-ce62-8e759d72ac35",
    "scrolled": false
   },
   "outputs": [
    {
     "name": "stdout",
     "output_type": "stream",
     "text": [
      " 1|'USS'        : NNP  proper noun, singular \"Harrison\"\n",
      " 2|'Enterprise' : NNP  proper noun, singular \"Harrison\"\n",
      " 3|'('          : (    -\n",
      " 4|'NCC-1701-D' : NNP  proper noun, singular \"Harrison\"\n",
      " 5|')'          : )    -\n",
      " 6|'For'        : IN   preposition/subordinating conjunction\n",
      " 7|'five'       : CD   cardinal digit\n",
      " 8|'hundred'    : CD   cardinal digit\n",
      " 9|'years'      : NNS  noun plural \"desks\"\n",
      "10|','          : ,    -\n",
      "11|'every'      : DT   determiner\n",
      "12|'ship'       : NN   noun, singular \"desk\"\n",
      "13|'that'       : WDT  wh-determiner which\n",
      "14|'has'        : VBZ  verb, 3rd person sing. present takes\n",
      "15|'borne'      : VBN  verb, past participle taken\n",
      "16|'the'        : DT   determiner\n",
      "17|'name'       : NN   noun, singular \"desk\"\n",
      "18|'of'         : IN   preposition/subordinating conjunction\n",
      "19|'the'        : DT   determiner\n",
      "20|'Enterprise' : NNP  proper noun, singular \"Harrison\"\n",
      "21|'has'        : VBZ  verb, 3rd person sing. present takes\n",
      "22|'become'     : VBN  verb, past participle taken\n",
      "23|'a'          : DT   determiner\n",
      "24|'legend'     : NN   noun, singular \"desk\"\n",
      "25|'.'          : .    -\n"
     ]
    }
   ],
   "source": [
    "## nltk\n",
    "tagged = nltk.pos_tag(tokens)\n",
    "\n",
    "for i, t in enumerate(tagged[:25]):\n",
    "    print('%2d|%-12r : %-4s %s' % (i+1, t[0], t[1], (pos_list[t[1]] if t[1] in pos_list else '-')))"
   ]
  },
  {
   "cell_type": "markdown",
   "metadata": {
    "id": "_n9qMgyULNP1"
   },
   "source": [
    "### Stemming"
   ]
  },
  {
   "cell_type": "code",
   "execution_count": null,
   "metadata": {
    "ExecuteTime": {
     "end_time": "2019-06-17T01:22:29.259531Z",
     "start_time": "2019-06-17T01:22:29.243588Z"
    },
    "id": "pL1vRUzxLNP2"
   },
   "outputs": [],
   "source": [
    "## nltk\n",
    "ps = nltk.porter.PorterStemmer()\n",
    "stemmed = ' '.join([ps.stem(word) for word in text.split()])"
   ]
  },
  {
   "cell_type": "markdown",
   "metadata": {
    "id": "2d9a6QazLNP4"
   },
   "source": [
    "### Lemmatisation"
   ]
  },
  {
   "cell_type": "code",
   "execution_count": null,
   "metadata": {
    "ExecuteTime": {
     "end_time": "2019-06-17T01:22:33.219077Z",
     "start_time": "2019-06-17T01:22:31.251647Z"
    },
    "id": "OAbriUsXLNP7",
    "scrolled": true
   },
   "outputs": [],
   "source": [
    "## nltk\n",
    "wl = nltk.stem.WordNetLemmatizer()\n",
    "lemma = ' '.join([wl.lemmatize(word) for word in text.split()])"
   ]
  },
  {
   "cell_type": "code",
   "execution_count": null,
   "metadata": {
    "ExecuteTime": {
     "end_time": "2019-06-17T01:22:40.296601Z",
     "start_time": "2019-06-17T01:22:40.251721Z"
    },
    "id": "yVIqX7HBLNP9",
    "outputId": "26f47e5f-7927-4ceb-e7aa-148b1a0d6798"
   },
   "outputs": [
    {
     "name": "stdout",
     "output_type": "stream",
     "text": [
      "i | Stem           Lemma\n",
      "--| -------------- ------------\n",
      " 1| 'uss'          'USS'       \n",
      " 2| 'enterpris'    'Enterprise'\n",
      " 3| '(ncc-1701-d)'   '(NCC-1701-D)'\n",
      " 4| 'for'          'For'       \n",
      " 5| 'five'         'five'      \n",
      " 6| 'hundr'        'hundred'   \n",
      " 7| 'years,'       'years,'    \n",
      " 8| 'everi'        'every'     \n",
      " 9| 'ship'         'ship'      \n",
      "10| 'that'         'that'      \n",
      "11| 'ha'           'ha'        \n",
      "12| 'born'         'borne'     \n",
      "13| 'the'          'the'       \n",
      "14| 'name'         'name'      \n",
      "15| 'of'           'of'        \n",
      "16| 'the'          'the'       \n",
      "17| 'enterpris'    'Enterprise'\n",
      "18| 'ha'           'ha'        \n",
      "19| 'becom'        'become'    \n",
      "20| 'a'            'a'         \n",
      "21| 'legend.'      'legend.'   \n"
     ]
    }
   ],
   "source": [
    "## nltk\n",
    "dot = stemmed.find('.') + 1\n",
    "sl = stemmed[:dot].split()\n",
    "dot = lemma.find('.') + 1\n",
    "ll = lemma[:dot].split()\n",
    "\n",
    "print('i | Stem           Lemma')\n",
    "print('--| -------------- ------------')\n",
    "for i, p in enumerate(zip(sl, ll)):\n",
    "    print('%2d| %-12r   %-12r' % (i+1, p[0], p[1]))"
   ]
  },
  {
   "cell_type": "code",
   "execution_count": null,
   "metadata": {
    "ExecuteTime": {
     "end_time": "2019-06-17T01:22:47.305414Z",
     "start_time": "2019-06-17T01:22:47.017187Z"
    },
    "id": "eG4yOgwVLNP-",
    "outputId": "70476f16-7ac6-4c40-e39f-7a6547c11fec"
   },
   "outputs": [
    {
     "data": {
      "image/png": "[encoded data removed]",
      "text/plain": [
       "<matplotlib.figure.Figure at 0x1eddb59e908>"
      ]
     },
     "metadata": {
      "needs_background": "light",
      "tags": []
     },
     "output_type": "display_data"
    }
   ],
   "source": [
    "plot_words(stemmed.split())"
   ]
  },
  {
   "cell_type": "code",
   "execution_count": null,
   "metadata": {
    "ExecuteTime": {
     "end_time": "2019-06-17T01:22:50.433861Z",
     "start_time": "2019-06-17T01:22:50.144603Z"
    },
    "id": "uEJR57TYLNQA",
    "outputId": "e96f9bb4-cdfc-432c-b0af-bcdb3a6c2c6c",
    "scrolled": true
   },
   "outputs": [
    {
     "data": {
      "image/png": "[encoded data removed]",
      "text/plain": [
       "<matplotlib.figure.Figure at 0x1eddb6457b8>"
      ]
     },
     "metadata": {
      "needs_background": "light",
      "tags": []
     },
     "output_type": "display_data"
    }
   ],
   "source": [
    "plot_words(lemma.split())"
   ]
  },
  {
   "cell_type": "markdown",
   "metadata": {
    "id": "Y_g-Oy2VUH3Z"
   },
   "source": [
    "### Entity recognition"
   ]
  },
  {
   "cell_type": "code",
   "execution_count": null,
   "metadata": {
    "ExecuteTime": {
     "end_time": "2019-06-17T01:22:59.142869Z",
     "start_time": "2019-06-17T01:22:58.754906Z"
    },
    "id": "sw6fYdgXLNQG",
    "outputId": "a83ea9db-825d-4031-8112-f022b71f565b"
   },
   "outputs": [
    {
     "name": "stdout",
     "output_type": "stream",
     "text": [
      "ORGANIZATION: USS Enterprise\n",
      "ORGANIZATION: Enterprise\n",
      "ORGANIZATION: USS Enterprise\n",
      "PERSON      : United Federation\n",
      "ORGANIZATION: Planets Galaxy\n",
      "PERSON      : Starfleet\n",
      "ORGANIZATION: Enterprise\n",
      "ORGANIZATION: Federation\n",
      "ORGANIZATION: Battle\n",
      "GPE         : Veridian\n",
      "PERSON      : History Construction\n",
      "ORGANIZATION: Enterprise\n",
      "ORGANIZATION: Utopia Planitia Fleet\n",
      "PERSON      : Mars\n",
      "ORGANIZATION: Solar\n",
      "ORGANIZATION: Commander Orfil Quinteros\n",
      "PERSON      : Brahms\n",
      "ORGANIZATION: Enterprise\n",
      "ORGANIZATION: Enterprise\n",
      "ORGANIZATION: USS Pegasus\n",
      "ORGANIZATION: Utopia Planitia\n",
      "PERSON      : Walter Pierce\n",
      "PERSON      : Marla Finn\n",
      "PERSON      : William Hodges\n",
      "PERSON      : Pierce\n",
      "ORGANIZATION: Enterprise\n",
      "PERSON      : Mars\n",
      "ORGANIZATION: Enterprise\n",
      "ORGANIZATION: Enterprise\n",
      "FACILITY    : Earth Station McKinley\n",
      "PERSON      : Captain Jean-Luc Picard\n",
      "ORGANIZATION: Rear Admiral Norah Satie\n",
      "PERSON      : Legacy Commander Riker\n",
      "ORGANIZATION: Enterprise\n",
      "PERSON      : Picard\n",
      "PERSON      : Deep Space\n",
      "GPE         : Starfleet\n",
      "PERSON      : Captain Benjamin Sisko\n",
      "ORGANIZATION: Enterprise\n",
      "GPE         : Worf\n",
      "ORGANIZATION: Enterprise\n",
      "PERSON      : Captain Picard\n",
      "ORGANIZATION: Class Sovereign\n",
      "ORGANIZATION: Enterprise\n",
      "PERSON      : Picard\n",
      "ORGANIZATION: CO\n",
      "GPE         : Worf\n",
      "ORGANIZATION: DS9\n"
     ]
    }
   ],
   "source": [
    "## nltk\n",
    "entities = nltk.chunk.ne_chunk(tagged)\n",
    "\n",
    "for e in entities:\n",
    "    s = re.sub(r'[\\(\\)]', '', str(e))\n",
    "    if s.find('/NNP') > 0:\n",
    "        t = s.split()[0]\n",
    "        n = ' '.join([re.sub(r'/NNP', '', x) for x in s.split()[1:]])\n",
    "        print('%-12s: %s' % (t, n))"
   ]
  },
  {
   "cell_type": "markdown",
   "metadata": {
    "id": "RERADKgNFq9T"
   },
   "source": [
    "\n",
    "\n",
    "---\n",
    "\n",
    "\n",
    "\n",
    "---\n",
    "\n",
    "\n",
    "\n",
    "> > > > > > > > > © 2024 Institute of Data\n",
    "\n",
    "\n",
    "---\n",
    "\n",
    "\n",
    "\n",
    "---\n",
    "\n",
    "\n",
    "\n"
   ]
  }
 ],
 "metadata": {
  "colab": {
   "provenance": []
  },
  "kernelspec": {
   "display_name": "Python 3 (ipykernel)",
   "language": "python",
   "name": "python3"
  },
  "language_info": {
   "codemirror_mode": {
    "name": "ipython",
    "version": 3
   },
   "file_extension": ".py",
   "mimetype": "text/x-python",
   "name": "python",
   "nbconvert_exporter": "python",
   "pygments_lexer": "ipython3",
   "version": "3.10.11"
  },
  "varInspector": {
   "cols": {
    "lenName": 16,
    "lenType": 16,
    "lenVar": 40
   },
   "kernels_config": {
    "python": {
     "delete_cmd_postfix": "",
     "delete_cmd_prefix": "del ",
     "library": "var_list.py",
     "varRefreshCmd": "print(var_dic_list())"
    },
    "r": {
     "delete_cmd_postfix": ") ",
     "delete_cmd_prefix": "rm(",
     "library": "var_list.r",
     "varRefreshCmd": "cat(var_dic_list()) "
    }
   },
   "types_to_exclude": [
    "module",
    "function",
    "builtin_function_or_method",
    "instance",
    "_Feature"
   ],
   "window_display": false
  }
 },
 "nbformat": 4,
 "nbformat_minor": 1
}
