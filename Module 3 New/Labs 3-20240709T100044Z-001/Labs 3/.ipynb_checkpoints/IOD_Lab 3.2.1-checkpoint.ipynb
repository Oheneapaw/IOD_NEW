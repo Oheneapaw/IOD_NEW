{
 "cells": [
  {
   "cell_type": "markdown",
   "metadata": {
    "id": "fneIB8BIGtiY"
   },
   "source": [
    "<div>\n",
    "<img src=https://www.institutedata.com/wp-content/uploads/2019/10/iod_h_tp_primary_c.svg width=\"300\">\n",
    "</div>"
   ]
  },
  {
   "cell_type": "markdown",
   "metadata": {
    "id": "rdipUchUGtih"
   },
   "source": [
    "# Lab 3.2.1\n",
    "# *Querying the International Space Station*"
   ]
  },
  {
   "cell_type": "markdown",
   "metadata": {
    "id": "b2RLpeJNGtil"
   },
   "source": [
    "## The OpenNotify API"
   ]
  },
  {
   "cell_type": "markdown",
   "metadata": {
    "id": "rrunXmMNGtip"
   },
   "source": [
    "The OpenNotify API exposes a few attributes of the International Space Station (ISS) via a simple, authentication-free interface. The simplicity of this API precludes any need for a dedicated Python library. However, as with many APIs, it accepts requests according to HTTP standards and returns responses in JSON format, so the Python libraries request and json will make managing the I/O simpler still."
   ]
  },
  {
   "cell_type": "code",
   "execution_count": 17,
   "metadata": {
    "id": "xz4PaIIjGtis"
   },
   "outputs": [],
   "source": [
    "import requests\n",
    "import json\n",
    "from datetime import datetime, date, time"
   ]
  },
  {
   "cell_type": "markdown",
   "metadata": {
    "id": "tE2vsQo3Gti0"
   },
   "source": [
    "This request fetches the latest position of the international space station:"
   ]
  },
  {
   "cell_type": "code",
   "execution_count": 18,
   "metadata": {
    "id": "bXBJ6YSPGti3"
   },
   "outputs": [],
   "source": [
    "response = requests.get(\"http://api.open-notify.org/iss-now.json\")"
   ]
  },
  {
   "cell_type": "markdown",
   "metadata": {
    "id": "wTbnWjPGGti-"
   },
   "source": [
    "Print the status code and text of the response:"
   ]
  },
  {
   "cell_type": "code",
   "execution_count": 19,
   "metadata": {
    "colab": {
     "base_uri": "https://localhost:8080/"
    },
    "executionInfo": {
     "elapsed": 349,
     "status": "ok",
     "timestamp": 1656486719496,
     "user": {
      "displayName": "Muru Raj",
      "userId": "16263509272652930332"
     },
     "user_tz": -480
    },
    "id": "_I6hU3-AGtjA",
    "outputId": "063d1285-3a8f-409a-aed5-76511912fb1c"
   },
   "outputs": [
    {
     "data": {
      "text/plain": [
       "200"
      ]
     },
     "execution_count": 19,
     "metadata": {},
     "output_type": "execute_result"
    }
   ],
   "source": [
    "#ANSWER\n",
    "response.status_code"
   ]
  },
  {
   "cell_type": "code",
   "execution_count": 20,
   "metadata": {
    "colab": {
     "base_uri": "https://localhost:8080/"
    },
    "executionInfo": {
     "elapsed": 324,
     "status": "ok",
     "timestamp": 1656486759324,
     "user": {
      "displayName": "Muru Raj",
      "userId": "16263509272652930332"
     },
     "user_tz": -480
    },
    "id": "-WdeRA2iTYNy",
    "outputId": "ce58f787-ddf2-41e3-fa25-169380a569f6"
   },
   "outputs": [
    {
     "name": "stdout",
     "output_type": "stream",
     "text": [
      "{\"timestamp\": 1722471003, \"iss_position\": {\"longitude\": \"122.9813\", \"latitude\": \"-20.9699\"}, \"message\": \"success\"}\n"
     ]
    }
   ],
   "source": [
    "#ANSWER\n",
    "print(response.text)"
   ]
  },
  {
   "cell_type": "markdown",
   "metadata": {
    "id": "eiziNer-GtjF"
   },
   "source": [
    "We can use another API to request the current position of the ISS and the next few times at which it will be over a certain location. The latitude and longitude of Sydney are (-33.87, 151.21)."
   ]
  },
  {
   "cell_type": "code",
   "execution_count": 21,
   "metadata": {
    "id": "2XZ-ygFkGtjH"
   },
   "outputs": [],
   "source": [
    "response = requests.get(\"https://api.g7vrd.co.uk/v1/satellite-passes/25544/-33.87/151.21.json?minelevation=0&hours=24\")"
   ]
  },
  {
   "cell_type": "markdown",
   "metadata": {
    "id": "aEl3pwmHGtjN"
   },
   "source": [
    "Print the response header:"
   ]
  },
  {
   "cell_type": "code",
   "execution_count": 22,
   "metadata": {
    "id": "6rsz7gwbGtjP"
   },
   "outputs": [
    {
     "name": "stdout",
     "output_type": "stream",
     "text": [
      "{'Date': 'Thu, 01 Aug 2024 00:11:36 GMT', 'Server': 'Apache', 'Vary': 'Origin,Access-Control-Request-Method,Access-Control-Request-Headers', 'Access-Control-Allow-Origin': '*', 'X-Content-Type-Options': 'nosniff', 'X-XSS-Protection': '0', 'Cache-Control': 'no-cache, no-store, max-age=0, must-revalidate', 'Pragma': 'no-cache', 'Expires': '0', 'X-Frame-Options': 'DENY', 'Content-Type': 'application/json', 'Keep-Alive': 'timeout=5, max=100', 'Connection': 'Keep-Alive', 'Transfer-Encoding': 'chunked'}\n"
     ]
    }
   ],
   "source": [
    "#ANSWER\n",
    "print(response.headers)"
   ]
  },
  {
   "cell_type": "markdown",
   "metadata": {
    "id": "W6tqlzySGtjR"
   },
   "source": [
    "Print the content of the response (the data that the server returned):"
   ]
  },
  {
   "cell_type": "code",
   "execution_count": 23,
   "metadata": {
    "id": "HbxepzDZGtjS"
   },
   "outputs": [
    {
     "name": "stdout",
     "output_type": "stream",
     "text": [
      "b'{\"api_status\":\"ALPHA\",\"request_timestamp\":\"2024-08-01T00:11:36.942666767Z\",\"norad_id\":25544,\"satellite_name\":\"ISS\",\"tle_last_retrieved\":\"2024-07-31T22:42:22.291442143Z\",\"lat\":-33.87,\"lon\":151.21,\"hours\":24,\"min_elevation\":0,\"query_ms\":21,\"passes\":[{\"start\":\"2024-08-01T11:57:31.921Z\",\"tca\":\"2024-08-01T12:02:01.921Z\",\"end\":\"2024-08-01T12:06:11.921Z\",\"aos_azimuth\":2,\"los_azimuth\":108,\"max_elevation\":10.0},{\"start\":\"2024-08-01T13:32:41.921Z\",\"tca\":\"2024-08-01T13:38:11.921Z\",\"end\":\"2024-08-01T13:43:36.921Z\",\"aos_azimuth\":306,\"los_azimuth\":136,\"max_elevation\":58.0},{\"start\":\"2024-08-01T15:11:01.921Z\",\"tca\":\"2024-08-01T15:15:31.921Z\",\"end\":\"2024-08-01T15:19:51.921Z\",\"aos_azimuth\":257,\"los_azimuth\":150,\"max_elevation\":10.0},{\"start\":\"2024-08-01T16:50:46.921Z\",\"tca\":\"2024-08-01T16:53:46.921Z\",\"end\":\"2024-08-01T16:56:36.921Z\",\"aos_azimuth\":215,\"los_azimuth\":151,\"max_elevation\":3.0},{\"start\":\"2024-08-01T18:28:21.921Z\",\"tca\":\"2024-08-01T18:31:51.921Z\",\"end\":\"2024-08-01T18:35:56.921Z\",\"aos_azimuth\":205,\"los_azimuth\":118,\"max_elevation\":6.0},{\"start\":\"2024-08-01T20:04:31.921Z\",\"tca\":\"2024-08-01T20:10:01.921Z\",\"end\":\"2024-08-01T20:15:06.921Z\",\"aos_azimuth\":217,\"los_azimuth\":70,\"max_elevation\":27.0},{\"start\":\"2024-08-01T21:41:16.921Z\",\"tca\":\"2024-08-01T21:46:16.921Z\",\"end\":\"2024-08-01T21:51:36.921Z\",\"aos_azimuth\":239,\"los_azimuth\":19,\"max_elevation\":25.0},{\"start\":\"2024-08-02T11:10:01.921Z\",\"tca\":\"2024-08-02T11:13:01.921Z\",\"end\":\"2024-08-02T11:16:11.921Z\",\"aos_azimuth\":23,\"los_azimuth\":93,\"max_elevation\":4.0}]}'\n"
     ]
    }
   ],
   "source": [
    "#ANSWER\n",
    "print(response.content)"
   ]
  },
  {
   "cell_type": "markdown",
   "metadata": {
    "id": "N7tHPQzDGtjU"
   },
   "source": [
    "Note that this is a Python byte string:"
   ]
  },
  {
   "cell_type": "code",
   "execution_count": 24,
   "metadata": {
    "id": "k8AMo0yWGtjV"
   },
   "outputs": [
    {
     "name": "stdout",
     "output_type": "stream",
     "text": [
      "<class 'bytes'>\n"
     ]
    }
   ],
   "source": [
    "print(type(response.content))"
   ]
  },
  {
   "cell_type": "markdown",
   "metadata": {
    "id": "5tvv9ht_GtjX"
   },
   "source": [
    "Print just the \"content-type\" value from the header:"
   ]
  },
  {
   "cell_type": "code",
   "execution_count": 25,
   "metadata": {
    "id": "nxWxxLI7GtjX"
   },
   "outputs": [
    {
     "name": "stdout",
     "output_type": "stream",
     "text": [
      "application/json\n"
     ]
    }
   ],
   "source": [
    "#ANSWER\n",
    "print(response.headers['content-type'])"
   ]
  },
  {
   "cell_type": "markdown",
   "metadata": {
    "id": "7lPlgn_hGtjZ"
   },
   "source": [
    "JSON was designed to be easy for computers to read, not for people. The `requests` library can decode the JSON byte string:"
   ]
  },
  {
   "cell_type": "code",
   "execution_count": 26,
   "metadata": {
    "id": "nGVtgDaqGtja"
   },
   "outputs": [
    {
     "name": "stdout",
     "output_type": "stream",
     "text": [
      "{'api_status': 'ALPHA', 'request_timestamp': '2024-08-01T00:11:36.942666767Z', 'norad_id': 25544, 'satellite_name': 'ISS', 'tle_last_retrieved': '2024-07-31T22:42:22.291442143Z', 'lat': -33.87, 'lon': 151.21, 'hours': 24, 'min_elevation': 0, 'query_ms': 21, 'passes': [{'start': '2024-08-01T11:57:31.921Z', 'tca': '2024-08-01T12:02:01.921Z', 'end': '2024-08-01T12:06:11.921Z', 'aos_azimuth': 2, 'los_azimuth': 108, 'max_elevation': 10.0}, {'start': '2024-08-01T13:32:41.921Z', 'tca': '2024-08-01T13:38:11.921Z', 'end': '2024-08-01T13:43:36.921Z', 'aos_azimuth': 306, 'los_azimuth': 136, 'max_elevation': 58.0}, {'start': '2024-08-01T15:11:01.921Z', 'tca': '2024-08-01T15:15:31.921Z', 'end': '2024-08-01T15:19:51.921Z', 'aos_azimuth': 257, 'los_azimuth': 150, 'max_elevation': 10.0}, {'start': '2024-08-01T16:50:46.921Z', 'tca': '2024-08-01T16:53:46.921Z', 'end': '2024-08-01T16:56:36.921Z', 'aos_azimuth': 215, 'los_azimuth': 151, 'max_elevation': 3.0}, {'start': '2024-08-01T18:28:21.921Z', 'tca': '2024-08-01T18:31:51.921Z', 'end': '2024-08-01T18:35:56.921Z', 'aos_azimuth': 205, 'los_azimuth': 118, 'max_elevation': 6.0}, {'start': '2024-08-01T20:04:31.921Z', 'tca': '2024-08-01T20:10:01.921Z', 'end': '2024-08-01T20:15:06.921Z', 'aos_azimuth': 217, 'los_azimuth': 70, 'max_elevation': 27.0}, {'start': '2024-08-01T21:41:16.921Z', 'tca': '2024-08-01T21:46:16.921Z', 'end': '2024-08-01T21:51:36.921Z', 'aos_azimuth': 239, 'los_azimuth': 19, 'max_elevation': 25.0}, {'start': '2024-08-02T11:10:01.921Z', 'tca': '2024-08-02T11:13:01.921Z', 'end': '2024-08-02T11:16:11.921Z', 'aos_azimuth': 23, 'los_azimuth': 93, 'max_elevation': 4.0}]}\n"
     ]
    }
   ],
   "source": [
    "overheads = response.json()\n",
    "print(overheads)"
   ]
  },
  {
   "cell_type": "markdown",
   "metadata": {
    "id": "l9GOdNK5Gtjc"
   },
   "source": [
    "What kind of object did this give us?"
   ]
  },
  {
   "cell_type": "code",
   "execution_count": 27,
   "metadata": {
    "id": "JBS4nRmSGtjd"
   },
   "outputs": [
    {
     "name": "stdout",
     "output_type": "stream",
     "text": [
      "<class 'dict'>\n"
     ]
    }
   ],
   "source": [
    "#ANSWER:\n",
    "print(type(overheads))"
   ]
  },
  {
   "cell_type": "markdown",
   "metadata": {
    "id": "2ZYJabXQGtjg"
   },
   "source": [
    "Python dicts are easier to work with, but the data we want is still buried in that data structure, so we have to dig it out. First, extract the `passes` value to a separate list:"
   ]
  },
  {
   "cell_type": "code",
   "execution_count": 28,
   "metadata": {
    "id": "nXqJ8_F2Gtjj"
   },
   "outputs": [],
   "source": [
    "#ANSWER:\n",
    "\n",
    "passes = overheads['passes']"
   ]
  },
  {
   "cell_type": "code",
   "execution_count": 29,
   "metadata": {},
   "outputs": [
    {
     "data": {
      "text/plain": [
       "[{'start': '2024-08-01T11:57:31.921Z',\n",
       "  'tca': '2024-08-01T12:02:01.921Z',\n",
       "  'end': '2024-08-01T12:06:11.921Z',\n",
       "  'aos_azimuth': 2,\n",
       "  'los_azimuth': 108,\n",
       "  'max_elevation': 10.0},\n",
       " {'start': '2024-08-01T13:32:41.921Z',\n",
       "  'tca': '2024-08-01T13:38:11.921Z',\n",
       "  'end': '2024-08-01T13:43:36.921Z',\n",
       "  'aos_azimuth': 306,\n",
       "  'los_azimuth': 136,\n",
       "  'max_elevation': 58.0},\n",
       " {'start': '2024-08-01T15:11:01.921Z',\n",
       "  'tca': '2024-08-01T15:15:31.921Z',\n",
       "  'end': '2024-08-01T15:19:51.921Z',\n",
       "  'aos_azimuth': 257,\n",
       "  'los_azimuth': 150,\n",
       "  'max_elevation': 10.0},\n",
       " {'start': '2024-08-01T16:50:46.921Z',\n",
       "  'tca': '2024-08-01T16:53:46.921Z',\n",
       "  'end': '2024-08-01T16:56:36.921Z',\n",
       "  'aos_azimuth': 215,\n",
       "  'los_azimuth': 151,\n",
       "  'max_elevation': 3.0},\n",
       " {'start': '2024-08-01T18:28:21.921Z',\n",
       "  'tca': '2024-08-01T18:31:51.921Z',\n",
       "  'end': '2024-08-01T18:35:56.921Z',\n",
       "  'aos_azimuth': 205,\n",
       "  'los_azimuth': 118,\n",
       "  'max_elevation': 6.0},\n",
       " {'start': '2024-08-01T20:04:31.921Z',\n",
       "  'tca': '2024-08-01T20:10:01.921Z',\n",
       "  'end': '2024-08-01T20:15:06.921Z',\n",
       "  'aos_azimuth': 217,\n",
       "  'los_azimuth': 70,\n",
       "  'max_elevation': 27.0},\n",
       " {'start': '2024-08-01T21:41:16.921Z',\n",
       "  'tca': '2024-08-01T21:46:16.921Z',\n",
       "  'end': '2024-08-01T21:51:36.921Z',\n",
       "  'aos_azimuth': 239,\n",
       "  'los_azimuth': 19,\n",
       "  'max_elevation': 25.0},\n",
       " {'start': '2024-08-02T11:10:01.921Z',\n",
       "  'tca': '2024-08-02T11:13:01.921Z',\n",
       "  'end': '2024-08-02T11:16:11.921Z',\n",
       "  'aos_azimuth': 23,\n",
       "  'los_azimuth': 93,\n",
       "  'max_elevation': 4.0}]"
      ]
     },
     "execution_count": 29,
     "metadata": {},
     "output_type": "execute_result"
    }
   ],
   "source": [
    "passes"
   ]
  },
  {
   "cell_type": "markdown",
   "metadata": {
    "id": "RItuBRt-Gtjl"
   },
   "source": [
    "These are strings. We convert these to an array of Python `datetime` values called `risetimes`:"
   ]
  },
  {
   "cell_type": "code",
   "execution_count": 30,
   "metadata": {
    "id": "8rzyAcLTGtjm"
   },
   "outputs": [
    {
     "data": {
      "text/plain": [
       "[datetime.datetime(2024, 8, 1, 11, 57, 31, 921000),\n",
       " datetime.datetime(2024, 8, 1, 13, 32, 41, 921000),\n",
       " datetime.datetime(2024, 8, 1, 15, 11, 1, 921000),\n",
       " datetime.datetime(2024, 8, 1, 16, 50, 46, 921000),\n",
       " datetime.datetime(2024, 8, 1, 18, 28, 21, 921000),\n",
       " datetime.datetime(2024, 8, 1, 20, 4, 31, 921000),\n",
       " datetime.datetime(2024, 8, 1, 21, 41, 16, 921000),\n",
       " datetime.datetime(2024, 8, 2, 11, 10, 1, 921000)]"
      ]
     },
     "execution_count": 30,
     "metadata": {},
     "output_type": "execute_result"
    }
   ],
   "source": [
    "risetimes = [datetime.strptime(xpass['start'], \"%Y-%m-%dT%H:%M:%S.%fZ\") for xpass in passes]\n",
    "risetimes"
   ]
  },
  {
   "cell_type": "markdown",
   "metadata": {
    "id": "l1EmKOFqGtjn"
   },
   "source": [
    "Finally, use `risetime.strftime` to print these in a format that people understand:\n",
    "\n",
    "```\n",
    "e.g.\n",
    "18/10/22 07:05\n",
    "18/10/22 08:41\n",
    "18/10/22 10:20\n",
    "18/10/22 12:00\n",
    "18/10/22 01:37\n",
    "18/10/22 03:13\n",
    "```\n",
    "\n"
   ]
  },
  {
   "cell_type": "code",
   "execution_count": 31,
   "metadata": {
    "id": "AkBE76VqGtjo"
   },
   "outputs": [
    {
     "name": "stdout",
     "output_type": "stream",
     "text": [
      "01082411:57\n",
      "01082401:32\n",
      "01082403:11\n",
      "01082404:50\n",
      "01082406:28\n",
      "01082408:04\n",
      "01082409:41\n",
      "02082411:10\n"
     ]
    }
   ],
   "source": [
    "#ANSWER:\n",
    "for risetime in risetimes:\n",
    "    print(risetime.strftime('%d%m%y%I:%M'))"
   ]
  },
  {
   "cell_type": "markdown",
   "metadata": {
    "id": "iNm6GjX3Gtjq"
   },
   "source": [
    "Finally, here is an endpoint that tells us who is on board:"
   ]
  },
  {
   "cell_type": "code",
   "execution_count": 36,
   "metadata": {
    "id": "12yXs_OgGtjs"
   },
   "outputs": [],
   "source": [
    "response = requests.get(\"http://api.open-notify.org/astros.json\")"
   ]
  },
  {
   "cell_type": "code",
   "execution_count": 37,
   "metadata": {},
   "outputs": [
    {
     "data": {
      "text/plain": [
       "<Response [200]>"
      ]
     },
     "execution_count": 37,
     "metadata": {},
     "output_type": "execute_result"
    }
   ],
   "source": [
    "response"
   ]
  },
  {
   "cell_type": "code",
   "execution_count": 38,
   "metadata": {},
   "outputs": [
    {
     "name": "stdout",
     "output_type": "stream",
     "text": [
      "{\"people\": [{\"craft\": \"ISS\", \"name\": \"Oleg Kononenko\"}, {\"craft\": \"ISS\", \"name\": \"Nikolai Chub\"}, {\"craft\": \"ISS\", \"name\": \"Tracy Caldwell Dyson\"}, {\"craft\": \"ISS\", \"name\": \"Matthew Dominick\"}, {\"craft\": \"ISS\", \"name\": \"Michael Barratt\"}, {\"craft\": \"ISS\", \"name\": \"Jeanette Epps\"}, {\"craft\": \"ISS\", \"name\": \"Alexander Grebenkin\"}, {\"craft\": \"ISS\", \"name\": \"Butch Wilmore\"}, {\"craft\": \"ISS\", \"name\": \"Sunita Williams\"}, {\"craft\": \"Tiangong\", \"name\": \"Li Guangsu\"}, {\"craft\": \"Tiangong\", \"name\": \"Li Cong\"}, {\"craft\": \"Tiangong\", \"name\": \"Ye Guangfu\"}], \"number\": 12, \"message\": \"success\"}\n"
     ]
    }
   ],
   "source": [
    "print(response.text)"
   ]
  },
  {
   "cell_type": "markdown",
   "metadata": {
    "id": "0Np4S0aAGtj0"
   },
   "source": [
    "Referring to the methods used above, extract the number of astronauts and their names:"
   ]
  },
  {
   "cell_type": "code",
   "execution_count": 39,
   "metadata": {
    "id": "Oqx5L19_Gtj1"
   },
   "outputs": [
    {
     "name": "stdout",
     "output_type": "stream",
     "text": [
      "{'people': [{'craft': 'ISS', 'name': 'Oleg Kononenko'}, {'craft': 'ISS', 'name': 'Nikolai Chub'}, {'craft': 'ISS', 'name': 'Tracy Caldwell Dyson'}, {'craft': 'ISS', 'name': 'Matthew Dominick'}, {'craft': 'ISS', 'name': 'Michael Barratt'}, {'craft': 'ISS', 'name': 'Jeanette Epps'}, {'craft': 'ISS', 'name': 'Alexander Grebenkin'}, {'craft': 'ISS', 'name': 'Butch Wilmore'}, {'craft': 'ISS', 'name': 'Sunita Williams'}, {'craft': 'Tiangong', 'name': 'Li Guangsu'}, {'craft': 'Tiangong', 'name': 'Li Cong'}, {'craft': 'Tiangong', 'name': 'Ye Guangfu'}], 'number': 12, 'message': 'success'}\n",
      "12\n",
      "Oleg Kononenko\n",
      "Nikolai Chub\n",
      "Tracy Caldwell Dyson\n",
      "Matthew Dominick\n",
      "Michael Barratt\n",
      "Jeanette Epps\n",
      "Alexander Grebenkin\n",
      "Butch Wilmore\n",
      "Sunita Williams\n",
      "Li Guangsu\n",
      "Li Cong\n",
      "Ye Guangfu\n"
     ]
    }
   ],
   "source": [
    "#ANSWER:\n",
    "astros = response.json()\n",
    "print(astros)\n",
    "print(astros['number'])\n",
    "for astronaut in astros['people']:\n",
    "    print(astronaut['name'])"
   ]
  },
  {
   "cell_type": "markdown",
   "metadata": {
    "id": "A4-DBw_bGtj2"
   },
   "source": [
    "## HOMEWORK\n"
   ]
  },
  {
   "cell_type": "markdown",
   "metadata": {
    "id": "c134mC6WGtj3"
   },
   "source": [
    "1. Write a simple handler for the response status code (refer to lab resources slide for HTTP response codes). As this Jupyter Notebook is an interactive device, the handler does not need to manage subsequent code execution (i.e. by branching or aborting execution), although it should return something that could be used to do so if deployed in a Python program."
   ]
  },
  {
   "cell_type": "code",
   "execution_count": 40,
   "metadata": {
    "id": "FZM2NAWuGtj4"
   },
   "outputs": [],
   "source": [
    "#ANSWER:\n",
    "def handleResponse(response, verbose = False):\n",
    "    '''\n",
    "    Returns Boolean Value, Status Code,\n",
    "    '''\n",
    "  # if Status Code is 200 return false, and status code\n",
    "  # Otherwise Return True and Status Code"
   ]
  },
  {
   "cell_type": "markdown",
   "metadata": {
    "id": "9aPstlTIGtj5"
   },
   "source": [
    "2. Test your response handler on some correct and incorrect API calls."
   ]
  },
  {
   "cell_type": "code",
   "execution_count": null,
   "metadata": {
    "id": "GYT1LAb8Gtj6"
   },
   "outputs": [],
   "source": [
    "response = requests.get(\"http://api.open-notify.org/astros.json\")\n",
    "if handleResponse(response)[0]:\n",
    "    print('API call failed. Resolve issue before continuing!')\n",
    "\n",
    "response = requests.get(\"http://api.open-notify.org/iss-now.json\")\n",
    "handleResponse(response, True)[0]"
   ]
  },
  {
   "cell_type": "markdown",
   "metadata": {
    "id": "k0AWq0rIIPza"
   },
   "source": [
    ">"
   ]
  },
  {
   "cell_type": "markdown",
   "metadata": {
    "id": "561tVw5LITP8"
   },
   "source": [
    ">"
   ]
  },
  {
   "cell_type": "markdown",
   "metadata": {
    "id": "H8Z7AkhTIUi3"
   },
   "source": [
    ">"
   ]
  },
  {
   "cell_type": "markdown",
   "metadata": {
    "id": "2lHXfE7KIHQp"
   },
   "source": [
    "\n",
    "\n",
    "---\n",
    "\n",
    "\n",
    "\n",
    "---\n",
    "\n",
    "\n",
    "\n",
    "> > > > > > > > > © 2024 Institute of Data\n",
    "\n",
    "\n",
    "---\n",
    "\n",
    "\n",
    "\n",
    "---\n",
    "\n",
    "\n",
    "\n"
   ]
  }
 ],
 "metadata": {
  "colab": {
   "provenance": [
    {
     "file_id": "1RknypYS3TD4wPumGiPV69EWtkq-3UBwF",
     "timestamp": 1553136072736
    }
   ]
  },
  "kernelspec": {
   "display_name": "Python 3 (ipykernel)",
   "language": "python",
   "name": "python3"
  },
  "language_info": {
   "codemirror_mode": {
    "name": "ipython",
    "version": 3
   },
   "file_extension": ".py",
   "mimetype": "text/x-python",
   "name": "python",
   "nbconvert_exporter": "python",
   "pygments_lexer": "ipython3",
   "version": "3.10.11"
  }
 },
 "nbformat": 4,
 "nbformat_minor": 1
}
